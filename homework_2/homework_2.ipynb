{
 "cells": [
  {
   "attachments": {},
   "cell_type": "markdown",
   "id": "8209aba7-3ae5-4e58-ad88-4c56434f80e6",
   "metadata": {},
   "source": [
    "# Homework 2 (Due: March 24, 2023)"
   ]
  },
  {
   "cell_type": "markdown",
   "id": "4730c7f4-ef24-426a-9723-1ef9a75f73d5",
   "metadata": {},
   "source": [
    "## 1. Voltage attenuation\n",
    "\n",
    "Here we ask you to plot the graphs showing how the membrane voltage attenuates with the distance from the site of current injection. By using the current clamp example in the [NEURON tutorial 2 - part 1](https://github.com/shhong/a310_cns_2021/blob/main/class_1/NEURON%20tutorial%202-part1.ipynb), make a simulation of the passive L2/3 pyramidal neuron model with a current clamp electrode (`h.IClamp`) that injects constant current and record the membrane voltage caused by the current injection in **every segment** in the model. At the same time, collect the distance between the electrode and segment to plot the distance versus voltage plot.\n",
    "\n",
    "1. Place the current clamp electrode at the end of a dendrite far away from the soma (e.g., section `h.dend3_1212222222`) and make the distance versus voltage plot. \n",
    "2. Do you observe 'plateaus' in the rapidly decline in the voltage. Explain what the plateaus correspond to and why they exist?\n",
    "3. Change the electrode location to other dendrites and confirm your explanation."
   ]
  },
  {
   "cell_type": "markdown",
   "id": "92484301-add7-4540-aefd-a6e7439116d0",
   "metadata": {},
   "source": [
    "## 2.  Summation of excitatory and inhibitory synaptic inputs \n",
    "\n",
    "Here we ask you to reproduce a version of Fig 5.1 in the textbook for transient synaptic inputs. Embed one excitatory and inhibitory synapses in the L2/3 pyramidal neuron model by setting the reversal potential (`e`) of the inhibitory one to -75 mV (Note that this is the same as the resting membrane potential and therefore the synapse will deliver _shunting inhibition_). Also, set`tau2`= 100 ms and `start`=0 ms to make it activate slowly from the beginning of the simulation.\n",
    "\n",
    "1. __(Proximal inhibition)__ Place the excitatory synapse to a distal part of a basal dendrite and the inhibitory synapse close to the soma. Run simulations with different conductance values, make a plot for the EPSP amplitude as Fig. 5.1A.\n",
    "2. __(Distal inhibition)__ Now move the inhibitory synapse to a distal part in the _same dendrite_ as the excitatory synapse, and make a plot as 1 (i.e., Fig. 5.1B).\n",
    "3. __(Different branch)__ Move the inhibitory synapse to a different dendrite than the excitatory synapse, and make a similar plot as 1 and 2.\n",
    "4. It is known that parvalbumin (PV)-expressing inhibitory interneurons prefer making synapses close to soma of a pyramidal neuron, whereas other interneurons such as somatostatin (SOM)-expressing neurons are known to prefer dendrites ([Thomson and Lamy, Front. Neurosci., 2007](http://journal.frontiersin.org/article/10.3389/neuro.01.1.1.002.2007)). Discuss what you can predict about the computational roles of different interneurons based on your simulation results (e.g., [Wilson et al., Nature, 2012](http://www.nature.com/nature/journal/v488/n7411/full/nature11347.html)).\n"
   ]
  },
  {
   "cell_type": "markdown",
   "id": "75451012-f0f2-4833-b685-96bfdc822f45",
   "metadata": {},
   "source": [
    "## 3. Summation of sequential excitatory inputs\n",
    "\n",
    "Here we ask you to create a simulation where a model neuron receives a series of excitatory inputs along a basal dendrite 1) from distal to proximal synapses or 2) from proximal to distal synapses. Find one basal dendritic section (e.g., `h.dend4_121`) and embed **one excitatory synapse per each segment** of the section (Hint: To loop through all the segment in a section `sec`, use `h.sec.allseg()` as in  [NEURON tutorial 2 - part 1](https://github.com/shhong/a310_cns_2021/blob/main/class_1/NEURON%20tutorial%202-part1.ipynb)) where all the synapses have `tau1`=0.1 ms, `tau2`=5 ms, and the conductance of 10 pS. Now, connect one `NetStim` object to each synapse where **each `NetStim` delivers one spike** in the following ways:\n",
    "\n",
    "* **Distal-to-proximal**: The most distal synapse receives a spike first. 3 ms after that, the second distal one gets a spike. Then, 3 ms after the second spike, the third spike arrives at the third distal synapse, and so on.\n",
    "* **Proximal-to-distal**: The most proximal synapse receives a spike first. The second, third, ... proximal synapses receive a spike after 3 ms, 2*3=6 ms, ..., etc.\n",
    "\n",
    "For each case, you are asked to record the membrane voltage and find the peak voltage.\n",
    "\n",
    "1. Run the simulation, present the data, and explain the results.\n",
    "2. Repeat 1 with another branch whose distance to a soma is very different (e.g., if a proximal branch was used in 1, try a distal one). Does the difference between two directions get large or small?\n",
    "3. (Optional) Compare your results and explanation with [Branco T, Clark B, Häusser M. (2010) Science *329*, 1671-1675](https://science.sciencemag.org/content/329/5999/1671.long)."
   ]
  }
 ],
 "metadata": {
  "kernelspec": {
   "display_name": "Python 3 (ipykernel)",
   "language": "python",
   "name": "python3"
  },
  "language_info": {
   "codemirror_mode": {
    "name": "ipython",
    "version": 3
   },
   "file_extension": ".py",
   "mimetype": "text/x-python",
   "name": "python",
   "nbconvert_exporter": "python",
   "pygments_lexer": "ipython3",
   "version": "3.10.9"
  }
 },
 "nbformat": 4,
 "nbformat_minor": 5
}
