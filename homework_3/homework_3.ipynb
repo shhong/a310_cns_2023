{
 "cells": [
  {
   "cell_type": "markdown",
   "id": "b3d10b35-92df-4925-90a1-b30f07448b40",
   "metadata": {},
   "source": [
    "# Homework 3 (Due: April 24, 2023)"
   ]
  },
  {
   "cell_type": "markdown",
   "id": "4493fe30-ea89-4b67-bc82-29b1665d85fe",
   "metadata": {},
   "source": [
    "## 1. fI curve, A-current, and near-threshold membrane potential dynamics\n",
    "\n",
    "**Note: Don't forget compiling the .mod files in `mod.files`!**\n",
    "\n",
    "Here we ask you to reproduce Fig. 7.2B and 7.6Bin Rinzel and Ermentrout by using simulations of a single compartment model neuron with active mechanisms called the Connor-Stevens model (Connor JA and Stevens CF (1971) J Physiol. 213(1):31-53) (`conste`). In addition to the Hodgkin-Huxley-like Na+ and K+ channel, the Connor-Stevens model has another type of the K+ current called the A-type current. The conductance density of the A-current is initially `gabar_conste`=0.0477 S/cm2.\n",
    "\n",
    "Construct a single compartment neuron model with the following specifictations:\n",
    "\n",
    "1. A single section, named `soma`, with a diameter and length of 15 um,\n",
    "2. The Connor-Stevens mechanism inserted (`conste`),\n",
    "3. A current clamp (`h.IClamp`) electrode embedded.\n",
    "\n",
    "With simulation of this model, answer the following questions:\n",
    "\n",
    "1. While injecting the constant current with different amplitudes, count how many spikes the neuron fires. With the data, plot the relationship between the injected current vs firing rate relationship, the f-I curve as Fig. 7.2B and 7.6B. Please try to collect data densely around the rheobase (a current threshold for initiating repeatitive spiking) so that you can probe the shape of the f-I curve better around the rheobase. Which case do you think this correspond to, 7.2B or 7.6B? \n",
    "2. Turn off the A-current by setting the conductance `gabar_conste` to zero, and repeat the steps in 1. Again, which one is qualitatively similar to this case, 7.2B or 7.6B? \n",
    "3. In both cases, record the membrane voltage `v` and K+ channel gating variable `n_conste`, and draw the 2d phase plot, `v` versus `n_conste`. When the injected current crosses the rheobase, how does the phase plot change? And how does that change depend on the presence/absence of the A-current? Again, please make sure that the injected current is sufficiently close to the rheobase so that you can observe the near-threshold behavior."
   ]
  },
  {
   "cell_type": "markdown",
   "id": "6e7b4ed5-20c7-4a64-82d8-c5d3fb5d5d35",
   "metadata": {},
   "source": [
    "## 2. Initiation of an action potential\n",
    "\n",
    "Here we will explore the initiation of an action potential in a more mammalian neuron-like setting. Construct a neuron model composed of two sections, one for a soma and the other for an axon segment attched to soma with the following specifications:\n",
    "\n",
    "**1. Geometry**\n",
    "\n",
    "| Section | L (um)| diam (um)| nseg | Ra (Ohm cm)|\n",
    "|---------|---|------|---|---|\n",
    "| soma    | 20| 20   | 10| default value| \n",
    "| axon    | 50| 0.8  | 10| 200|\n",
    "\n",
    "One end of the axon should be connected to an end of the soma (e.g. x=1 of the axon and x=0 of the soma).\n",
    "\n",
    "**2. Mechanisms**\n",
    "\n",
    "Both sections have the Hodgkin-Huxley ion channels (`hh`).\n",
    "\n",
    "**3. Current injection**\n",
    "\n",
    "Embed a current clamp electrode at the midpoint of the soma.\n",
    "\n",
    "**4. Data**\n",
    "\n",
    "During simulation, record the membrane voltage (`v`), Na+ channel gate (`m_hh`), Na+ channel inactivation (`h_hh`), and K+ channel gate (`n_hh`) in both sections.\n",
    "\n",
    "With simulation of this model and results, answer the following questions:\n",
    "\n",
    "1. Inject a current of 50 pA for 2.5 milliseconds to evoke an action potential and explain the process using the channel variable data.\n",
    "2. (**Anode break excitation**) Inject a brief **negative** current, -200 pA, for 2.5 milliseconds. What happens? Explain the process using the channel variable data.\n",
    "3. In mammalian neurons, Na+ and K+ channels are usually more abundant in an axon than a soma. To simulate this situation, change the parameters as\n",
    "| Section | Variable | Value  (S/cm2)|\n",
    "|---------|----------|--------|\n",
    "| soma    | `gnabar_hh`| 0.04 |\n",
    "| axon    | `gnabar_hh`| 1.2 |\n",
    "| axon    | `gkbar_hh` | 0.252|\n",
    "\n",
    "   Note that we are assuming that the Na+ channel density is 30 times higher in the axon. Simulate the model with the two previous current injection protocols (50 pA and -200 pA).  Explain the difference from the simulatiion result before the parameter change.\n",
    "\n4. In **somatic** recordings from mammalian neurons, it is typically observed that the membrane potential rises more sharply during action potential generation than a prediction of Hodgkin-Huxley-like models (e.g., see Fig. 1 in [Naundorf et al., Nature, 2006](https://www.nature.com/articles/nature04610)). Can you provide an explanation based on your simulation results?\n",
    "\n",
    "\n"
   ]
  },
  {
   "cell_type": "markdown",
   "id": "d6b9fbca-c0de-438f-9436-e9b7ca1812d4",
   "metadata": {},
   "source": [
    "## 3. Emergent oscillation in a network of mutually inhibiting neurons\n",
    "\n",
    "Construct a network model with the following specifications:\n",
    "\n",
    "1. The network has 100 cells,\n",
    "2. Each cell is a single compartment model with a diameter and length of 15 um,\n",
    "3. Each cell has the Connor-Stevens mechanism inserted (`conste`) as above.\n",
    "4. Each cell has one excitatory (tau1=0.25 ms and tau2=2 ms, e=0 mV) and inhibitory (tau1 = 1 ms, tau2 = 5 ms, e = -75 mV), based on the Exp2Syn mechanism.\n",
    "5. Each excitatory synapse is driven by a external stimulus generator, NetStimFD, that fires noisily (noise=1) at 500 Hz. The synaptic conductance (weight[0] in the NetCon for the connection) is 5 nS.\n",
    "6. Each inhibitory synapse is connected to other 50 random presynaptic cells in the network, with a conduction delay (delay in the NetCon for the connection) of 4 ms and synaptic conductance of 5 nS.\n",
    "\n",
    "Run the simulation of this model for at least 500 ms while recording spike times from every cell, and answer the following questions,\n",
    "\n",
    "1. Plot a raster plot of the data: plot a scatter plot of the data where an x-axis is time and y-axis is neuron's id. \n",
    "\n",
    "2. Plot the total spike count in time: make a histogram of all the spike times with 1 ms time bins and plot the result (For making a histogram, see https://docs.scipy.org/doc/numpy/reference/generated/numpy.histogram.html). \n",
    "\n",
    "3. Find an oscillation frequency from the spike count time series. How does the oscillation frequency compare with the mean firing frequency? (Hint: You can use  [periodogram function in scipy.signal](https://docs.scipy.org/doc/scipy-0.14.0/reference/generated/scipy.signal.periodogram.html)) to compute a power spectrial density. Make sure that your sampling rate (fs) is 1e3 since the time bin size is 1 ms.\n",
    "\n",
    "4. Turn off the A-current in every neuron. How does it change the oscillation and mean firing frequency?"
   ]
  }
 ],
 "metadata": {
  "kernelspec": {
   "display_name": "Python 3 (ipykernel)",
   "language": "python",
   "name": "python3"
  },
  "language_info": {
   "codemirror_mode": {
    "name": "ipython",
    "version": 3
   },
   "file_extension": ".py",
   "mimetype": "text/x-python",
   "name": "python",
   "nbconvert_exporter": "python",
   "pygments_lexer": "ipython3",
   "version": "3.10.9"
  }
 },
 "nbformat": 4,
 "nbformat_minor": 5
}
