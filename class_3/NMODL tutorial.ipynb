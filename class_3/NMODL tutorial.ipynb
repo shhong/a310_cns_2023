{
 "cells": [
  {
   "cell_type": "markdown",
   "id": "25801da1",
   "metadata": {
    "slideshow": {
     "slide_type": "slide"
    }
   },
   "source": [
    "# NMODL\n",
    "\n",
    "* NEURON Extension to NMODL: https://www.neuron.yale.edu/neuron/static/py_doc/modelspec/programmatic/mechanisms/nmodl2.html\n",
    "* NMODL: https://www.neuron.yale.edu/neuron/static/py_doc/modelspec/programmatic/mechanisms/nmodl.html#nmodl"
   ]
  },
  {
   "cell_type": "markdown",
   "id": "06993d49",
   "metadata": {
    "slideshow": {
     "slide_type": "slide"
    }
   },
   "source": [
    "## Surface and intracellular mechanisms\n",
    "\n",
    "* Mechanisms to inject ionic currents and modify ion/chemical concentrations\n",
    "\n",
    "```\n",
    "TITLE some title, e.g. the name of the mechanism\n",
    "\n",
    "COMMENT\n",
    "comments about what it does\n",
    "ENDCOMMENT\n",
    "\n",
    "UNITS {\n",
    ":    ... define units here ...\n",
    "}\n",
    "\n",
    "NEURON {\n",
    "    SUFFIX name to be called in NEURON\n",
    "    USEION ... if ionic currents are written or ion concentration is used\n",
    "    NONSPECIFIC_CURRENT ... variables for non-ion-specific currents\n",
    "    RANGE ... variables which can be read and written in NEURON\n",
    "    GLOBAL ... global variables ...\n",
    "    THREADSAFE : only if your global variables are independently computed from each other\n",
    "}\n",
    "```"
   ]
  },
  {
   "cell_type": "markdown",
   "id": "74ec68f3",
   "metadata": {
    "slideshow": {
     "slide_type": "slide"
    }
   },
   "source": [
    "```\n",
    "PARAMETER {\n",
    "    :... fixed parameters ...\n",
    "}\n",
    "\n",
    "ASSSIGNED {\n",
    "    :... variables ...\n",
    "}\n",
    "\n",
    "STATE {\n",
    "    :... internal states such as channel gating variables. They should be initialized...\n",
    "}\n",
    "\n",
    "BREAKPOINT {\n",
    "    :... specify what the mechanism actually does\n",
    "    :... typically starts with\n",
    "    SOLVE ...state equations... METHOD ...method typically cnexp...\n",
    "}\n",
    "\n",
    "INITIAL {\n",
    "    :... initialization of the variables ...\n",
    "}\n",
    "```"
   ]
  },
  {
   "cell_type": "markdown",
   "id": "c001e5b7",
   "metadata": {
    "slideshow": {
     "slide_type": "slide"
    }
   },
   "source": [
    "```\n",
    "DERIVATIVE ...state name {\n",
    "    : ... here one can define differential equations to solve ...\n",
    "}\n",
    "\n",
    "PROCEDURE ...function with no return value... {\n",
    "\n",
    "}\n",
    "\n",
    "FUNCTION ...function with a return value... {\n",
    "\n",
    "}\n",
    "\n",
    "UNITSOFF\n",
    "    : ... here you don't have to worry about units of the parameters.\n",
    "UNITSON\n",
    "\n",
    "VERBATIM\n",
    "    : ... for directly writing C functions. You don't want to know now.\n",
    "ENDVERBATIM\n",
    "```"
   ]
  },
  {
   "cell_type": "markdown",
   "id": "dfb3e34a",
   "metadata": {
    "slideshow": {
     "slide_type": "slide"
    }
   },
   "source": [
    "### Variable names that cannot be used\n",
    "\n",
    "Generally, the variables used in NEURON should be avoided.\n",
    "\n",
    "* `v`: reserved for the membrane potential,\n",
    "* `celsius`: reserved for the temperature,\n",
    "* `na`, `k`, `ina`, `ik`, ... : common ion and current variables,\n",
    "* `exp`, ... : common C functions.\n",
    "* `flag`: reserved for event handling"
   ]
  },
  {
   "cell_type": "markdown",
   "id": "6ae42bb2",
   "metadata": {
    "slideshow": {
     "slide_type": "slide"
    }
   },
   "source": [
    "## Point processes and those receiving events\n",
    "\n",
    "Point processes are defined in the same way except:\n",
    "\n",
    "1. They are defined as `POINT_PROCESS` in the `NEURON` block\n",
    "\n",
    "\n",
    "```\n",
    "NEURON {\n",
    "    POINT_PROCESS ...name to be called in NEURON\n",
    "    ELECTRODE_CURRENT ... current variable if it injects current as an electrode\n",
    "    : ... other statements such as RANGE ...\n",
    "}\n",
    "```\n",
    "2. `NET_RECEIVE` block if they receive event signals \n",
    "\n",
    "```\n",
    "NET_RECEIVE (weight variables) {\n",
    "    : changes in the state variable\n",
    "}\n",
    "```\n",
    "\n",
    "`NET_RECEIVE` can receive network events from `NETCONS`. Also it receives other events sent by `net_send` function, which enables implementing complex event-driven algorithms."
   ]
  }
 ],
 "metadata": {
  "celltoolbar": "Slideshow",
  "kernelspec": {
   "display_name": "Python 3 (ipykernel)",
   "language": "python",
   "name": "python3"
  },
  "language_info": {
   "codemirror_mode": {
    "name": "ipython",
    "version": 3
   },
   "file_extension": ".py",
   "mimetype": "text/x-python",
   "name": "python",
   "nbconvert_exporter": "python",
   "pygments_lexer": "ipython3",
   "version": "3.10.9"
  }
 },
 "nbformat": 4,
 "nbformat_minor": 5
}
