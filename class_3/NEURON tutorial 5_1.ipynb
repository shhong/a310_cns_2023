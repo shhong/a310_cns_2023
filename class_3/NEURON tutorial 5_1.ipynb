{
 "cells": [
  {
   "cell_type": "markdown",
   "metadata": {},
   "source": [
    "# Putting things together 1\n",
    "\n",
    "Here we will define a cell model with multiple sections and create a network model.\n"
   ]
  },
  {
   "cell_type": "code",
   "execution_count": null,
   "metadata": {},
   "outputs": [],
   "source": [
    "import numpy as np\n",
    "import matplotlib.pyplot as plt\n",
    "\n",
    "from neuron import h, gui, load_mechanisms"
   ]
  },
  {
   "cell_type": "markdown",
   "metadata": {},
   "source": [
    "## Inspecting different neuron types\n",
    "Let's put our cell model in a module."
   ]
  },
  {
   "cell_type": "code",
   "execution_count": null,
   "metadata": {
    "tags": []
   },
   "outputs": [],
   "source": [
    "%%file cell_models.py\n",
    "\n",
    "from neuron import h\n",
    "from cell_template import Cell\n",
    "\n",
    "class Mainen(Cell):\n",
    "    def __init__(self, i, rho=150, c=10):\n",
    "        # We initialize the cell as in the `Cell` class.\n",
    "        super().__init__()\n",
    "        h.v_init = -70\n",
    "        h.celsius = 37\n",
    "        \n",
    "        self.id = i\n",
    "        self.set_rho(rho)\n",
    "        self.set_c(c)\n",
    "\n",
    "    def create_sections(self):\n",
    "        self.soma = h.Section(name=\"soma\", cell=self)\n",
    "        self.dend = h.Section(name=\"dend\", cell=self)\n",
    "\n",
    "    def build_topology(self):\n",
    "        self.dend.connect(self.soma(0.5), 0)\n",
    "\n",
    "    def build_subsets(self):\n",
    "        pass\n",
    "    \n",
    "    def define_geometry(self):\n",
    "        self.soma.diam = 10/h.PI\n",
    "        self.soma.L = 10\n",
    "        self.dend.diam = 10/h.PI\n",
    "        self.dend.L = 200\n",
    "        \n",
    "    def define_biophysics(self):\n",
    "        self.soma.insert(\"na\")\n",
    "        self.soma.insert(\"kv\")\n",
    "        \n",
    "        self.dend.insert(\"pas\")\n",
    "        self.dend.insert(\"na\")\n",
    "        self.dend.insert(\"ca\")\n",
    "        self.dend.insert(\"km\")\n",
    "        self.dend.insert(\"kca\")\n",
    "        self.dend.insert(\"cad\")\n",
    "        \n",
    "        self.soma.ek = -90\n",
    "        self.soma.ena = 60\n",
    "        self.soma.gbar_na = 30000\n",
    "        self.soma.gbar_kv = 1500\n",
    "\n",
    "        self.dend.ek = -90\n",
    "        self.dend.ena = 60\n",
    "        self.dend.eca = 140\n",
    "        h.ion_style(\"ca_ion\", 0, 1, 0, 0, 0, sec=self.dend)\n",
    "\n",
    "        self.dend.g_pas = 1/30000\n",
    "        self.dend.gbar_na = 15\n",
    "        self.dend.gbar_ca = 0.3\n",
    "        self.dend.gbar_kca = 3\n",
    "        self.dend.gbar_km = 0.1\n",
    "\n",
    "        self.soma.cm = 0.75\n",
    "        self.dend.cm = 0.75\n",
    "\n",
    "    def set_rho(self, rho):\n",
    "        self.rho = rho\n",
    "        self.dend.L = self.rho*self.soma.L\n",
    "\n",
    "    def set_c(self, c):\n",
    "        self.c = c\n",
    "        self.dend.Ra = self.dend.Ra*self.c/h.ri(.5, sec=self.dend)\n",
    "        \n",
    "    def create_synapses(self):\n",
    "        self.synlist.append(h.Exp2Syn(self.dend(0.5))) # AMPA\n",
    "        self.synlist[-1].tau1 = 0.1\n",
    "        self.synlist[-1].tau2 = 2.0\n",
    "        self.synlist[-1].e = 0\n",
    "\n",
    "        self.synlist.append(h.Exp2Syn(self.dend(0.5))) # NMDA-like\n",
    "        self.synlist[-1].tau1 = 1.0\n",
    "        self.synlist[-1].tau2 = 8.0\n",
    "        self.synlist[-1].e = 0\n",
    "\n",
    "        self.synlist.append(h.Exp2Syn(self.dend(0.5))) # GABA\n",
    "        self.synlist[-1].e = -75\n",
    "        self.synlist[-1].tau1 = 0.5\n",
    "        self.synlist[-1].tau2 = 4.0\n",
    "        \n",
    "        self.synlist.append(h.Exp2Syn(self.soma(0.5))) # GABA\n",
    "        self.synlist[-1].e = -75\n",
    "        self.synlist[-1].tau1 = 0.5\n",
    "        self.synlist[-1].tau2 = 4.0"
   ]
  },
  {
   "cell_type": "markdown",
   "metadata": {},
   "source": [
    "We load the module and create a cell."
   ]
  },
  {
   "cell_type": "code",
   "execution_count": null,
   "metadata": {},
   "outputs": [],
   "source": [
    "from cell_models import Mainen\n",
    "\n",
    "cell = Mainen(0)"
   ]
  },
  {
   "cell_type": "markdown",
   "metadata": {},
   "source": [
    "Let's inpect the cell's firing property with a current clamp."
   ]
  },
  {
   "cell_type": "code",
   "execution_count": null,
   "metadata": {},
   "outputs": [],
   "source": [
    "ic = h.IClamp(0.5, sec=cell.soma)\n",
    "ic.delay = 0\n",
    "ic.dur   =  1000\n",
    "\n",
    "def run(tstop=1000):\n",
    "    \n",
    "    h.tstop = tstop\n",
    "    tvec = h.Vector()\n",
    "    vsoma, vdend = [h.Vector() for _ in range(2)]\n",
    "    \n",
    "    vsoma.record(cell.soma(0.5)._ref_v, 0.01)\n",
    "    vdend.record(cell.dend(0.5)._ref_v, 0.01)\n",
    "    tvec.record(h._ref_t, 0.01)\n",
    "    \n",
    "    h.init()\n",
    "    h.run()\n",
    "    \n",
    "    return (np.array(s.c().to_python()) for s in [tvec, vsoma, vdend])"
   ]
  },
  {
   "cell_type": "markdown",
   "metadata": {},
   "source": [
    "This cell model has two properties, `rho` and `c`. `rho` is a ratio of the dendrite and somatic area. `c` is a coupling between two sections controlled by axial resistance. Let's first try a case of a relatively small dendritic section"
   ]
  },
  {
   "cell_type": "code",
   "execution_count": null,
   "metadata": {},
   "outputs": [],
   "source": [
    "cell.set_rho(80)\n",
    "cell.set_c(10)\n",
    "\n",
    "ic.amp   =  100e-3\n",
    "\n",
    "t, vsoma, vdend = run()\n",
    "\n",
    "_, ax = plt.subplots()\n",
    "ax.plot(t, vsoma, 'k')\n",
    "ax.plot(t, vdend, 'g')\n",
    "ax.set_xlabel('time (ms)')\n",
    "ax.set_ylabel('voltage (mV)')"
   ]
  },
  {
   "cell_type": "markdown",
   "metadata": {},
   "source": [
    "Let's increase the dendrite size."
   ]
  },
  {
   "cell_type": "code",
   "execution_count": null,
   "metadata": {},
   "outputs": [],
   "source": [
    "cell.set_rho(200)\n",
    "cell.set_c(10)\n",
    "\n",
    "ic.amp = 100e-3\n",
    "\n",
    "t, vsoma, vdend = run()\n",
    "\n",
    "_, ax = plt.subplots()\n",
    "ax.plot(t, vsoma, 'k')\n",
    "ax.plot(t, vdend, 'g')\n",
    "ax.set_xlabel('time (ms)')\n",
    "ax.set_ylabel('voltage (mV)')"
   ]
  },
  {
   "cell_type": "code",
   "execution_count": null,
   "metadata": {},
   "outputs": [],
   "source": [
    "cell.set_rho(200)\n",
    "cell.set_c(3)\n",
    "\n",
    "ic.amp = 100e-3\n",
    "\n",
    "t, vsoma, vdend = run()\n",
    "\n",
    "_, ax = plt.subplots()\n",
    "ax.plot(t, vsoma, 'k')\n",
    "ax.plot(t, vdend, 'g')\n",
    "ax.set_xlabel('time (ms)')\n",
    "ax.set_ylabel('voltage (mV)')"
   ]
  },
  {
   "cell_type": "markdown",
   "metadata": {},
   "source": [
    "Now let's see how the cell responds to (random) synaptic inputs."
   ]
  },
  {
   "cell_type": "code",
   "execution_count": null,
   "metadata": {},
   "outputs": [],
   "source": [
    "stim = h.NetStimFD(cell.dend(0.5))\n",
    "stim.interval = 3\n",
    "stim.noise = 1\n",
    "stim.start = 0\n",
    "stim.duration = 1000\n",
    "\n",
    "nc = h.NetCon(stim, cell.synlist[0])"
   ]
  },
  {
   "cell_type": "code",
   "execution_count": null,
   "metadata": {},
   "outputs": [],
   "source": [
    "ic.amp = 0\n",
    "cell.set_rho(200)\n",
    "cell.set_c(3)\n",
    "\n",
    "nc.weight[0] = 4e-3\n",
    "\n",
    "t, vsoma, vdend = run()\n",
    "\n",
    "_, ax = plt.subplots()\n",
    "ax.plot(t, vsoma, 'k', t, vdend, 'g')\n",
    "ax.set_xlabel('time (ms)')\n",
    "ax.set_ylabel('voltage (mV)')\n",
    "\n",
    "plt.tight_layout()"
   ]
  },
  {
   "cell_type": "code",
   "execution_count": null,
   "metadata": {},
   "outputs": [],
   "source": [
    "ic.amp = 0\n",
    "cell.set_rho(200)\n",
    "cell.set_c(10)\n",
    "\n",
    "nc.weight[0] = 4e-3\n",
    "\n",
    "t, vsoma, vdend = run()\n",
    "\n",
    "_, ax = plt.subplots()\n",
    "ax.plot(t, vsoma, 'k', t, vdend, 'g')\n",
    "ax.set_xlabel('time (ms)')\n",
    "ax.set_ylabel('voltage (mV)')\n",
    "\n",
    "plt.tight_layout()"
   ]
  },
  {
   "cell_type": "code",
   "execution_count": null,
   "metadata": {},
   "outputs": [],
   "source": [
    "ic.amp = 0\n",
    "cell.set_rho(200)\n",
    "cell.set_c(3)\n",
    "\n",
    "nc.weight[0] = 4e-3\n",
    "\n",
    "t, vsoma, vdend = run()\n",
    "\n",
    "_, ax = plt.subplots()\n",
    "ax.plot(t, vsoma, 'k', t, vdend, 'g')\n",
    "ax.set_xlabel('time (ms)')\n",
    "ax.set_ylabel('voltage (mV)')\n",
    "\n",
    "plt.tight_layout()"
   ]
  }
 ],
 "metadata": {
  "kernel_info": {
   "name": "python3"
  },
  "kernelspec": {
   "display_name": "Python 3 (ipykernel)",
   "language": "python",
   "name": "python3"
  },
  "language_info": {
   "codemirror_mode": {
    "name": "ipython",
    "version": 3
   },
   "file_extension": ".py",
   "mimetype": "text/x-python",
   "name": "python",
   "nbconvert_exporter": "python",
   "pygments_lexer": "ipython3",
   "version": "3.10.9"
  },
  "nteract": {
   "version": "0.7.1"
  }
 },
 "nbformat": 4,
 "nbformat_minor": 4
}
