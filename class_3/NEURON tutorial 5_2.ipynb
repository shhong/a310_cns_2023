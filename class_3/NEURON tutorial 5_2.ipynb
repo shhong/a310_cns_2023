{
 "cells": [
  {
   "cell_type": "markdown",
   "metadata": {},
   "source": [
    "# Putting things together 2\n",
    "\n",
    "Here we will define a cell model with multiple sections and create a network model."
   ]
  },
  {
   "cell_type": "markdown",
   "metadata": {},
   "source": [
    "## Planning how to wire cells"
   ]
  },
  {
   "cell_type": "code",
   "execution_count": null,
   "metadata": {},
   "outputs": [],
   "source": [
    "%%bash \n",
    "pip install networkx"
   ]
  },
  {
   "cell_type": "code",
   "execution_count": null,
   "metadata": {},
   "outputs": [],
   "source": [
    "import numpy as np\n",
    "import matplotlib.pyplot as plt\n",
    "import networkx as nx"
   ]
  },
  {
   "cell_type": "markdown",
   "metadata": {},
   "source": [
    "We begin with how many cells are in the network."
   ]
  },
  {
   "cell_type": "code",
   "execution_count": null,
   "metadata": {},
   "outputs": [],
   "source": [
    "Ncells = 500                    # Number of cells\n",
    "Nexc = int((Ncells/5)*4)         # Excitatory cells = 80%\n",
    "Ninh = int(Ncells/5)             # Inhibitory cells = 20%\n",
    "nexcpre = int(Nexc*0.1)          # Presynaptic excitatory cells for each neuron = 10% of excitatory cells\n",
    "ninhpre = int(Ninh*0.1)          # Presynaptic inhibitory cells for each neuron = 10% of inhibitory cells\n",
    "\n",
    "print('Ncells =', Ncells, '\\nNexc =', Nexc, '\\nNinh =', Ninh, '\\nnexcpre =',nexcpre, '\\nninhpre =', ninhpre)"
   ]
  },
  {
   "cell_type": "markdown",
   "metadata": {},
   "source": [
    "Here we first specify an anatomical basis of the network, which is defined by a directional graph structure, containing nodes for cells and edges for cell-to-cell connections."
   ]
  },
  {
   "cell_type": "code",
   "execution_count": null,
   "metadata": {},
   "outputs": [],
   "source": [
    "G = nx.DiGraph()"
   ]
  },
  {
   "cell_type": "code",
   "execution_count": null,
   "metadata": {},
   "outputs": [],
   "source": [
    "for i in range(Ncells):\n",
    "    if i<Nexc:\n",
    "        G.add_node(i, cell_type='E', rho=200, c=10)\n",
    "    else:\n",
    "        G.add_node(i, cell_type='I', rho=80, c=10)"
   ]
  },
  {
   "cell_type": "code",
   "execution_count": null,
   "metadata": {},
   "outputs": [],
   "source": [
    "for i in range(Ncells):\n",
    "    \n",
    "    # Choose nexcpre cells from Nexc excitatory cells\n",
    "    exc_pre = np.random.randint(0, Nexc, nexcpre)\n",
    "    # Choose ninhpre cells from Ninh inhibitory cells\n",
    "    inh_pre = np.random.randint(Nexc, Ncells, ninhpre)\n",
    "\n",
    "    for k in exc_pre:\n",
    "        if i!=k:  # No self-connection\n",
    "            # pnm.nc_append(id_of_presyn_cell, id_of_postsyn_cell, synapse_id, syn_weight, propagation_delay, threshold)\n",
    "            if k in G[i]:\n",
    "                G[i][k]['weight'] +=1\n",
    "            else:\n",
    "                G.add_edge(i, k, weight=1)\n",
    "            \n",
    "    for k in inh_pre:\n",
    "        if i!=k:  # No self-connection\n",
    "            if k in G[i]:\n",
    "                G[i][k]['weight'] +=1\n",
    "            else:\n",
    "                G.add_edge(i, k, weight=1)"
   ]
  },
  {
   "cell_type": "markdown",
   "metadata": {},
   "source": [
    "Let's check the nodes and connections "
   ]
  },
  {
   "cell_type": "code",
   "execution_count": null,
   "metadata": {},
   "outputs": [],
   "source": [
    "for i in G.nodes:\n",
    "    print(i, G.nodes[i]['cell_type'])"
   ]
  },
  {
   "cell_type": "code",
   "execution_count": null,
   "metadata": {},
   "outputs": [],
   "source": [
    "i = 0\n",
    "for k in G[i]:\n",
    "    print(k, G.nodes[k]['cell_type'], G[i][k]['weight'], G[i][k]['target'])"
   ]
  },
  {
   "cell_type": "markdown",
   "metadata": {},
   "source": [
    "We can save the constructed network:"
   ]
  },
  {
   "cell_type": "code",
   "execution_count": null,
   "metadata": {},
   "outputs": [],
   "source": [
    "import pickle\n",
    "with open('balanced_Mainen.pkl', 'wb') as f:\n",
    "    pickle.dump(G, f)"
   ]
  },
  {
   "cell_type": "markdown",
   "metadata": {},
   "source": [
    "Then, the network can be reused later."
   ]
  },
  {
   "cell_type": "code",
   "execution_count": null,
   "metadata": {},
   "outputs": [],
   "source": [
    "import numpy as np\n",
    "import matplotlib.pyplot as plt\n",
    "import networkx as nx\n",
    "\n",
    "import pickle\n",
    "with open('balanced_Mainen.pkl', 'rb') as f:\n",
    "    G = pickle.load(f)\n",
    "\n",
    "# i = 0\n",
    "# for k in G[i]:\n",
    "#     print(k, G.nodes[k]['cell_type'], G[i][k]['weight'], G[i][k]['target'])"
   ]
  },
  {
   "cell_type": "markdown",
   "metadata": {},
   "source": [
    "## Building a network model after the plan\n",
    "\n",
    "We first create neurons in the network according to the plan:"
   ]
  },
  {
   "cell_type": "code",
   "execution_count": null,
   "metadata": {},
   "outputs": [],
   "source": [
    "from neuron import h, gui, load_mechanisms\n",
    "from net_manager import SerialNetManager\n",
    "from cell_models import Mainen\n",
    "\n",
    "pnm = SerialNetManager(len(G.nodes))\n",
    "\n",
    "for i in G.nodes:\n",
    "    pnm.register_cell(i, Mainen(i, rho=G.nodes[i]['rho'], c=G.nodes[i]['c']))"
   ]
  },
  {
   "cell_type": "markdown",
   "metadata": {},
   "source": [
    "Then, we add brief stimuli for the cells to kickstart the network activity"
   ]
  },
  {
   "cell_type": "code",
   "execution_count": null,
   "metadata": {},
   "outputs": [],
   "source": [
    "# Kickstart stims\n",
    "ext_stims = []\n",
    "ext_ncs = []\n",
    "for i in G.nodes:\n",
    "    stim = h.NetStimFD(pnm.gid2cell[i].soma(0.5))\n",
    "    stim.interval = 3\n",
    "    stim.noise = 1\n",
    "    stim.start = 0\n",
    "    stim.duration = 7\n",
    "    stim.seed(i+1223)\n",
    "\n",
    "    nc = h.NetCon(stim, pnm.gid2cell[i].synlist[1])\n",
    "    nc.weight[0] = 2.5e-3\n",
    "    ext_stims.append((stim, nc))"
   ]
  },
  {
   "cell_type": "code",
   "execution_count": null,
   "metadata": {},
   "outputs": [],
   "source": [
    "pnm.want_all_spikes()\n",
    "\n",
    "h.tstop = 400\n",
    "h.init()\n",
    "pnm.run()"
   ]
  },
  {
   "cell_type": "code",
   "execution_count": null,
   "metadata": {},
   "outputs": [],
   "source": [
    "Ncells = len(G.nodes)\n",
    "\n",
    "fig, ax = plt.subplots(figsize=(20, 10))\n",
    "ax.plot(pnm.spikevec, pnm.idvec, '.k')\n",
    "ax.set(xlim=[0, 200], ylim=[0, Ncells])\n",
    "ax.set(xlabel='Time (ms)', ylabel='Neuron')"
   ]
  },
  {
   "cell_type": "markdown",
   "metadata": {},
   "source": [
    "Then we wire the cells for each edge in our plan."
   ]
  },
  {
   "cell_type": "code",
   "execution_count": null,
   "metadata": {},
   "outputs": [],
   "source": [
    "gexc = 0.5e-3     # initial value --- will be adjusted later\n",
    "ginh = 10.*gexc   # initial value --- will be adjusted later\n",
    "\n",
    "# Reset all NetCon's\n",
    "pnm.nc_reset()\n",
    "\n",
    "# Go around every cell\n",
    "for i in G.nodes:\n",
    "    for k in G[i]:\n",
    "        t_delay = np.random.rand()\n",
    "        if G.nodes[k]['cell_type']=='E':\n",
    "            g = gexc*G[i][k]['weight']\n",
    "            pnm.nc_append(k, i, 0, g, t_delay, thresh=-10)\n",
    "            pnm.nc_append(k, i, 1, g, t_delay, thresh=-10)\n",
    "        else:\n",
    "            g = ginh*G[i][k]['weight']\n",
    "            pnm.nc_append(k, i, 2, g, t_delay, thresh=-10)"
   ]
  },
  {
   "cell_type": "markdown",
   "metadata": {},
   "source": [
    "Here are functions to adjuct synaptic conductances and pack the simulation results into a matrix:"
   ]
  },
  {
   "cell_type": "code",
   "execution_count": null,
   "metadata": {},
   "outputs": [],
   "source": [
    "def set_global_synaptic_conductance(gexc, ginh, G, pnm):\n",
    "    for nc in pnm.netcons:\n",
    "        k, i, _ = nc\n",
    "        if G.nodes[k]['cell_type']=='E':\n",
    "            g = gexc*G[i][k]['weight']\n",
    "        else:\n",
    "            g = ginh*G[i][k]['weight']\n",
    "        pnm.netcons[nc].weight[0] = g\n",
    "\n",
    "        \n",
    "def repack_result(pnm, G, t_init=75):\n",
    "    x = np.array([pnm.spikevec, pnm.idvec]).T\n",
    "    x = x[x[:,0]>t_init,:]\n",
    "    x[:,0] -= t_init\n",
    "    e_or_i = np.array([G.nodes[n]['cell_type']=='E' for n in G.nodes])\n",
    "    e_or_i = e_or_i[x[:,1].astype(int)]\n",
    "    x = np.hstack([x, e_or_i[:,None]])\n",
    "    return x"
   ]
  },
  {
   "cell_type": "code",
   "execution_count": null,
   "metadata": {},
   "outputs": [],
   "source": [
    "t_init = 75\n",
    "\n",
    "h.tstop = t_init+400\n",
    "h.init()\n",
    "pnm.run()"
   ]
  },
  {
   "cell_type": "code",
   "execution_count": null,
   "metadata": {},
   "outputs": [],
   "source": [
    "x = repack_result(pnm, G)\n",
    "\n",
    "col = np.zeros((x.shape[0], 3));\n",
    "col[x[:,2]==0,:] = [0.5,0,0]\n",
    "\n",
    "fig, ax = plt.subplots(figsize=(15, 5))\n",
    "ax.scatter(x[:,0], x[:,1], 2, c=col)\n",
    "ax.set(xlabel='Time (ms)', ylabel='Neuron', xlim=[0, h.tstop-75])"
   ]
  },
  {
   "cell_type": "markdown",
   "metadata": {},
   "source": [
    "Let's adjust the synaptic parameters until we get stable asynchronous activity:"
   ]
  },
  {
   "cell_type": "code",
   "execution_count": null,
   "metadata": {},
   "outputs": [],
   "source": [
    "gexc=1.6e-3\n",
    "set_global_synaptic_conductance(gexc, 150.*gexc, G, pnm)"
   ]
  },
  {
   "cell_type": "markdown",
   "metadata": {},
   "source": [
    "Let's make a firing rate histogram averaged over all the cells first"
   ]
  },
  {
   "cell_type": "code",
   "execution_count": null,
   "metadata": {},
   "outputs": [],
   "source": [
    "tstop = h.tstop-t_init\n",
    "tc = np.arange(tstop+1)\n",
    "spikecount_all, _ = np.histogram(x[:,0], tc)\n",
    "t = tc[:-1]\n",
    "\n",
    "_, ax = plt.subplots(figsize=(20, 5))\n",
    "ax.step(t, spikecount_all/Ncells*1e3, 'k')\n",
    "ax.set(xlim=[0, tstop], xlabel='time (ms)', ylabel='rate (Hz)')"
   ]
  },
  {
   "cell_type": "markdown",
   "metadata": {},
   "source": [
    "We do the same for the excitatory and inhibitory population"
   ]
  },
  {
   "cell_type": "code",
   "execution_count": null,
   "metadata": {},
   "outputs": [],
   "source": [
    "tc = np.arange(tstop+1)\n",
    "spikecount_exc, _ = np.histogram(x[x[:,2]==1,0], tc)\n",
    "spikecount_inh, _ = np.histogram(x[x[:,2]==0,0], tc)\n",
    "t = tc[:-1]\n",
    "\n",
    "Nexc = len([G.nodes[i] for i in G.nodes if G.nodes[i]['cell_type']=='E'])\n",
    "Ninh = len([G.nodes[i] for i in G.nodes if G.nodes[i]['cell_type']=='I'])\n",
    "\n",
    "_, axs = plt.subplots(figsize=(20, 5), nrows=2, sharex=True)\n",
    "axs[0].step(t, spikecount_exc/Nexc*1e3, 'k')\n",
    "axs[1].step(t, spikecount_inh/Ninh*1e3, 'g')\n",
    "axs[1].set(xlim=[0, 500], xlabel='time (ms)', ylabel='rate (Hz)')\n",
    "axs[0].set(ylabel='rate (Hz)')"
   ]
  },
  {
   "cell_type": "markdown",
   "metadata": {},
   "source": [
    "Note that the E/I population activities are positively correlated."
   ]
  },
  {
   "cell_type": "code",
   "execution_count": null,
   "metadata": {},
   "outputs": [],
   "source": [
    "np.corrcoef(spikecount_exc, spikecount_inh)"
   ]
  }
 ],
 "metadata": {
  "kernel_info": {
   "name": "python3"
  },
  "kernelspec": {
   "display_name": "Python 3 (ipykernel)",
   "language": "python",
   "name": "python3"
  },
  "language_info": {
   "codemirror_mode": {
    "name": "ipython",
    "version": 3
   },
   "file_extension": ".py",
   "mimetype": "text/x-python",
   "name": "python",
   "nbconvert_exporter": "python",
   "pygments_lexer": "ipython3",
   "version": "3.10.9"
  },
  "nteract": {
   "version": "0.7.1"
  }
 },
 "nbformat": 4,
 "nbformat_minor": 4
}
