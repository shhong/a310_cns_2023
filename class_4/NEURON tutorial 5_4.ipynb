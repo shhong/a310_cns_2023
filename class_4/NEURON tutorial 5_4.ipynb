{
 "cells": [
  {
   "cell_type": "markdown",
   "metadata": {
    "slideshow": {
     "slide_type": "slide"
    }
   },
   "source": [
    "# Synaptic plasticity\n",
    "\n",
    "Here we show some examples of implementing synaptic plasticity in a network model. We will mainly use the model of spike time-dependent plasticity by Clopath et al. (Nat. Neurosci, 2010)."
   ]
  },
  {
   "cell_type": "code",
   "execution_count": null,
   "metadata": {
    "slideshow": {
     "slide_type": "-"
    }
   },
   "outputs": [],
   "source": [
    "import numpy as np\n",
    "import matplotlib.pyplot as plt\n",
    "from neuron import h, gui, load_mechanisms"
   ]
  },
  {
   "cell_type": "markdown",
   "metadata": {
    "slideshow": {
     "slide_type": "slide"
    }
   },
   "source": [
    "As the Clopath et al model was implemented with an adaptive exponential integrate-and-fire (AdEX) model, here we first make a cell model, as we have seen before. Note that we add two types of synapses, one non-plastic and the other one based on the Clopath model. The former will be used for triggering spiking in this neuron, while the latter will receive much weaker presynaptic inputs."
   ]
  },
  {
   "cell_type": "code",
   "execution_count": null,
   "metadata": {},
   "outputs": [],
   "source": [
    "from cell_template import Cell\n",
    "\n",
    "class AdEx(Cell):\n",
    "    def create_sections(self):\n",
    "        self.soma = h.Section(name=\"soma\", cell=self)\n",
    "\n",
    "    def build_topology(self):\n",
    "        pass\n",
    "    \n",
    "    def build_subsets(self):\n",
    "        pass\n",
    "\n",
    "    def define_geometry(self):\n",
    "        self.soma.diam = 12.4\n",
    "        self.soma.L = 721\n",
    "        self.area_cm2 = (self.soma.diam*self.soma.L*h.PI*1e-8)\n",
    "        \n",
    "    def define_biophysics(self):\n",
    "        self.soma.insert('pas')\n",
    "        self.soma.g_pas = 30e-9/self.area_cm2\n",
    "        self.soma.e_pas = -70.6\n",
    "        self.adexp = h.AdExpIF(0.5, sec=self.soma)\n",
    "\n",
    "    def create_synapses(self):\n",
    "        self.synlist.append(h.Exp2Syn(0.5, sec=self.soma))\n",
    "        self.synlist[-1].tau1 = 0.001\n",
    "        self.synlist[-1].tau2 = 0.2\n",
    "\n",
    "        self.synlist.append(h.CCSTDPSyn(0.5, sec=self.soma))\n",
    "    "
   ]
  },
  {
   "cell_type": "markdown",
   "metadata": {
    "slideshow": {
     "slide_type": "slide"
    }
   },
   "source": [
    "Then, we create a cell, two external inputs that connect to the synapses."
   ]
  },
  {
   "cell_type": "code",
   "execution_count": null,
   "metadata": {},
   "outputs": [],
   "source": [
    "cell1 = AdEx()\n",
    "\n",
    "stim_post = h.NetStim(0.5, sec=cell1.soma)\n",
    "nc_post = h.NetCon(stim_post, cell1.synlist[0])\n",
    "\n",
    "stim_pre = h.NetStim(0.5, sec=cell1.soma)\n",
    "nc_pre = h.NetCon(stim_pre, cell1.synlist[1])"
   ]
  },
  {
   "cell_type": "markdown",
   "metadata": {
    "slideshow": {
     "slide_type": "slide"
    }
   },
   "source": [
    "We will simulate the cell according to a protocol to reproduce Fig. 2a in Clopath et al. (2010). 60 pulse stimuli will be delivered at 20 Hz with with a certain time delay between `stim_post` and `stim_pre`."
   ]
  },
  {
   "cell_type": "code",
   "execution_count": null,
   "metadata": {},
   "outputs": [],
   "source": [
    "# We use an adaptive intergrator for higher numerical accuracy that is required to simulate an AdEx model accurately.\n",
    "cvode = h.CVode()\n",
    "cvode.active(1)\n",
    "\n",
    "\n",
    "def run_with_delay(delay):\n",
    "    h.v_init = -70.6\n",
    "    h.tstop = 60*50+100\n",
    "\n",
    "    stim_post.start = 100    # Everything starts at t = 100 ms\n",
    "    stim_post.number = 60    # 60 pulses\n",
    "    stim_post.interval = 50  # 20 Hz\n",
    "    stim_post.noise = 0      # Regular firing\n",
    "\n",
    "    nc_post.delay = 0.01     \n",
    "    nc_post.weight[0] = 1.5  # Make a very strong synaptic to make the neuron fire reliably\n",
    "\n",
    "    stim_pre.start = 100 - delay\n",
    "    stim_pre.number = 60\n",
    "    stim_pre.interval = 50\n",
    "    stim_pre.noise = 0\n",
    "\n",
    "    nc_pre.delay = 2\n",
    "    nc_pre.weight[0] = 2e-3    # 2 pS initial weight (synaptic conductance)\n",
    "    w0 = nc_pre.weight[0]      # Here we record what we start from\n",
    "    h.init()\n",
    "    h.run()\n",
    "    \n",
    "    return nc_pre.weight[0]/w0 # Return a relative strength of the synapse\n"
   ]
  },
  {
   "cell_type": "code",
   "execution_count": null,
   "metadata": {
    "slideshow": {
     "slide_type": "slide"
    }
   },
   "outputs": [],
   "source": [
    "# cell1.synlist[1].tauca = 1\n",
    "# cell1.synlist[1].Am = 0.8e-6\n",
    "# cell1.synlist[1].Ap = 1.4e-8\n",
    "# cell1.synlist[1].taux = 15\n",
    "# cell1.synlist[1].taum = 10\n",
    "# cell1.synlist[1].taup = 7\n",
    "\n",
    "delays = np.arange(-15, 16, 1)\n",
    "delays = [d for d in delays if np.abs(d)>0]\n",
    "delg = [run_with_delay(d) for d in delays]\n",
    "\n",
    "_, ax = plt.subplots()\n",
    "ax.plot(delays, delg, 'o-', delays, np.ones_like(delays))\n",
    "# ax.set(ylim=[0.5, 1.5])"
   ]
  },
  {
   "cell_type": "code",
   "execution_count": null,
   "metadata": {},
   "outputs": [],
   "source": [
    "def run_with_delay(delay,freq):\n",
    "    h.v_init = -70.6\n",
    "    h.tstop = 60*50+100\n",
    "\n",
    "    stim_post.start = 100    # Everything starts at t = 100 ms\n",
    "    stim_post.number = 60    # 60 pulses\n",
    "    stim_post.interval = 1000/freq #50  # 20 Hz\n",
    "    stim_post.noise = 0      # Regular firing\n",
    "\n",
    "    nc_post.delay = 0.01     \n",
    "    nc_post.weight[0] = 1.5  # Make a very strong synaptic to make the neuron fire reliably\n",
    "\n",
    "    stim_pre.start = 100 - delay\n",
    "    stim_pre.number = 60\n",
    "    stim_pre.interval = 1000/freq\n",
    "    stim_pre.noise = 0\n",
    "\n",
    "    nc_pre.delay = 2\n",
    "    nc_pre.weight[0] = 2e-3 # 2 nS initial weight (synaptic condactance)\n",
    "    w0 = nc_pre.weight[0]      # Here we record what we start from\n",
    "    h.init()\n",
    "    h.run()\n",
    "    \n",
    "    return nc_pre.weight[0]/w0 # Return a relative strength of the synapse\n",
    "\n",
    "\n",
    "freq = np.arange(1, 52, 2)\n",
    "\n",
    "delg_p = [run_with_delay(10,f) for f in freq]\n",
    "delg_m = [run_with_delay(-10,f) for f in freq]\n",
    "    \n",
    "\n",
    "#delays_inv = [100/abs(d) for d in delays]\n",
    "\n",
    "_, ax = plt.subplots()\n",
    "ax.plot(freq, delg_p, '-')\n",
    "ax.plot(freq, delg_m, '-')\n",
    "# ax.set(ylim=[0.5, 2])"
   ]
  },
  {
   "cell_type": "markdown",
   "metadata": {
    "slideshow": {
     "slide_type": "slide"
    }
   },
   "source": [
    "# Emergence of connectivity from network activity\n",
    "\n",
    "Here we will construct and run a network simulation that is supposed to reproduce Fig. 4a in Clopath et al. (2010). After resetting the kernel, we redefine `AdEx`."
   ]
  },
  {
   "cell_type": "code",
   "execution_count": null,
   "metadata": {
    "slideshow": {
     "slide_type": "slide"
    }
   },
   "outputs": [],
   "source": [
    "import numpy as np\n",
    "import matplotlib.pyplot as plt\n",
    "from neuron import h, gui\n",
    "from cell_template import Cell\n",
    "\n",
    "cvode = h.CVode()\n",
    "cvode.active(1)\n",
    "\n",
    "\n",
    "class AdEx(Cell):\n",
    "    def create_sections(self):\n",
    "        self.soma = h.Section(name=\"soma\", cell=self)\n",
    "\n",
    "    def build_topology(self):\n",
    "        pass\n",
    "    \n",
    "    def build_subsets(self):\n",
    "        pass\n",
    "\n",
    "    def define_geometry(self):\n",
    "        self.soma.diam = 12.4\n",
    "        self.soma.L = 721    \n",
    "        self.area_cm2 = (self.soma.diam*self.soma.L*h.PI*1e-8)\n",
    "        \n",
    "    def define_biophysics(self):\n",
    "        self.soma.insert('pas')\n",
    "        self.soma.g_pas = 30e-9/self.area_cm2\n",
    "        self.soma.e_pas = -70.6\n",
    "        self.adexp = h.AdExpIF(0.5, sec=self.soma)\n",
    "\n",
    "    def create_synapses(self):\n",
    "        self.synlist.append(h.Exp2Syn(0.5, sec=self.soma))\n",
    "        self.synlist[-1].tau1 = 0.001\n",
    "        self.synlist[-1].tau2 = 0.2\n",
    "\n",
    "        self.synlist.append(h.CCSTDPSyn(0.5, sec=self.soma))\n",
    "    "
   ]
  },
  {
   "cell_type": "markdown",
   "metadata": {
    "slideshow": {
     "slide_type": "slide"
    }
   },
   "source": [
    "We build our model with `SerialNetManager`: first, we create a network manager for ten neurons, and register an AdEx model for each global id (gid)."
   ]
  },
  {
   "cell_type": "code",
   "execution_count": null,
   "metadata": {},
   "outputs": [],
   "source": [
    "from net_manager import SerialNetManager\n",
    "\n",
    "Ncells = 10\n",
    "\n",
    "pnm = SerialNetManager(Ncells)\n",
    "for i in range(Ncells):\n",
    "    pnm.register_cell(i, AdEx())\n"
   ]
  },
  {
   "cell_type": "markdown",
   "metadata": {
    "slideshow": {
     "slide_type": "slide"
    }
   },
   "source": [
    "We connect each cell by an external input that is stimulated by a random spike generator."
   ]
  },
  {
   "cell_type": "code",
   "execution_count": null,
   "metadata": {},
   "outputs": [],
   "source": [
    "ics_ext = []\n",
    "ncs_ext = []\n",
    "for i in range(Ncells):\n",
    "    ic = h.NetStimFD(pnm.gid2cell[i].soma(0.5)) # pnm.gid2cell[i] gives you a cell object with gid=i\n",
    "    ic.noise = 1\n",
    "    ic.start = 0\n",
    "    ic.duration = 10000\n",
    "    ic.seed(i+1223)\n",
    "    \n",
    "    nc = h.NetCon(ic, pnm.gid2cell[i].synlist[0])\n",
    "    nc.delay = 0.01\n",
    "    nc.weight[0] = 1.5\n",
    "    ics_ext.append(ic)\n",
    "    ncs_ext.append(nc)\n"
   ]
  },
  {
   "cell_type": "markdown",
   "metadata": {
    "slideshow": {
     "slide_type": "slide"
    }
   },
   "source": [
    "Now, neurons with gid=0...5 will be driven at 2 Hz, while neurons with gid=6...9 will fire at 30 Hz."
   ]
  },
  {
   "cell_type": "code",
   "execution_count": null,
   "metadata": {},
   "outputs": [],
   "source": [
    "for i in range(6):\n",
    "    ics_ext[i].interval = 1000/2\n",
    "\n",
    "for i in range(6, 10):\n",
    "    ics_ext[i].interval = 1000/30\n"
   ]
  },
  {
   "cell_type": "markdown",
   "metadata": {
    "slideshow": {
     "slide_type": "slide"
    }
   },
   "source": [
    "Let's run the model!"
   ]
  },
  {
   "cell_type": "code",
   "execution_count": null,
   "metadata": {},
   "outputs": [],
   "source": [
    "def run():\n",
    "    pnm.want_all_spikes() # Record spikes from all the cells\n",
    "\n",
    "    h.tstop = 10000\n",
    "    h.init()\n",
    "    pnm.run()\n",
    "\n",
    "    _, ax = plt.subplots()\n",
    "    ax.plot(pnm.spikevec, pnm.idvec, '.k')\n",
    "    ax.set(xlabel='Time (ms)', ylabel='Neuron', xlim=[0, h.tstop])\n",
    "\n",
    "run()"
   ]
  },
  {
   "cell_type": "markdown",
   "metadata": {
    "slideshow": {
     "slide_type": "slide"
    }
   },
   "source": [
    "Since the simulation runs well without connections, we build a baseline connectivity, which will be all-to-all with the same synaptic strength."
   ]
  },
  {
   "cell_type": "code",
   "execution_count": null,
   "metadata": {},
   "outputs": [],
   "source": [
    "pnm.nc_reset()\n",
    "gsyn0 = 2e-3  # 2 nS\n",
    "\n",
    "for i in range(Ncells):\n",
    "    for j in range(Ncells):\n",
    "        if i!=j:\n",
    "            pnm.nc_append(i, j, 1, gsyn0, 0.1, thresh=0) "
   ]
  },
  {
   "cell_type": "markdown",
   "metadata": {
    "slideshow": {
     "slide_type": "slide"
    }
   },
   "source": [
    "Here we make a simple function to display the connectivity,"
   ]
  },
  {
   "cell_type": "code",
   "execution_count": null,
   "metadata": {},
   "outputs": [],
   "source": [
    "def show_connections():\n",
    "    conn_mat = np.zeros((Ncells, Ncells))\n",
    "    for i in range(Ncells):\n",
    "        for j in range(Ncells):\n",
    "            if i!=j:\n",
    "                conn_mat[i, j] = pnm.netcons[(i, j, 1)].weight[0]\n",
    "\n",
    "    _, ax = plt.subplots(ncols=2, figsize=(12,5))\n",
    "    c = ax[0].pcolormesh(conn_mat)\n",
    "    plt.colorbar(c, ax=ax[0])\n",
    "    _ = ax[1].hist(conn_mat.ravel(), 50)\n",
    "    \n",
    "    return conn_mat\n",
    "\n",
    "conn_mat = show_connections()"
   ]
  },
  {
   "cell_type": "markdown",
   "metadata": {
    "slideshow": {
     "slide_type": "slide"
    }
   },
   "source": [
    "Let's run the model again, and check the connections."
   ]
  },
  {
   "cell_type": "code",
   "execution_count": null,
   "metadata": {},
   "outputs": [],
   "source": [
    "run()\n",
    "conn_mat = show_connections()"
   ]
  }
 ],
 "metadata": {
  "@webio": {
   "lastCommId": null,
   "lastKernelId": null
  },
  "celltoolbar": "Slideshow",
  "kernelspec": {
   "display_name": "Python 3 (ipykernel)",
   "language": "python",
   "name": "python3"
  },
  "language_info": {
   "codemirror_mode": {
    "name": "ipython",
    "version": 3
   },
   "file_extension": ".py",
   "mimetype": "text/x-python",
   "name": "python",
   "nbconvert_exporter": "python",
   "pygments_lexer": "ipython3",
   "version": "3.10.9"
  }
 },
 "nbformat": 4,
 "nbformat_minor": 4
}
