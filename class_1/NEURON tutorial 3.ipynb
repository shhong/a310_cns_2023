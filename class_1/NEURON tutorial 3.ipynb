{
 "cells": [
  {
   "cell_type": "markdown",
   "metadata": {
    "slideshow": {
     "slide_type": "slide"
    }
   },
   "source": [
    "## Working with Shapes\n",
    "\n",
    "Here we explore how to visualize information using the cell morphology"
   ]
  },
  {
   "cell_type": "code",
   "execution_count": 2,
   "metadata": {
    "slideshow": {
     "slide_type": "-"
    }
   },
   "outputs": [
    {
     "name": "stdout",
     "output_type": "stream",
     "text": [
      "\t0 \n",
      "\t1 \n",
      "\t1 \n",
      "\t1 \n",
      "\t1 \n"
     ]
    }
   ],
   "source": [
    "import numpy as np\n",
    "import matplotlib.pyplot as plt\n",
    "from neuron import h, gui\n",
    "import libcell\n",
    "\n",
    "cell = libcell.L23()"
   ]
  },
  {
   "cell_type": "code",
   "execution_count": 3,
   "metadata": {
    "slideshow": {
     "slide_type": "slide"
    }
   },
   "outputs": [
    {
     "name": "stdout",
     "output_type": "stream",
     "text": [
      "nrn_define_shape: soma first and last 3-d point at same (x,y)\n"
     ]
    },
    {
     "data": {
      "text/plain": [
       "1.0"
      ]
     },
     "execution_count": 3,
     "metadata": {},
     "output_type": "execute_result"
    }
   ],
   "source": [
    "# ps = h.Shape()\n",
    "\n",
    "ps = h.Shape(False)\n",
    "ps.view(-191.578, -140.551, 369.697, 366.916, 49, 129, 425.28, 422.08)"
   ]
  },
  {
   "cell_type": "code",
   "execution_count": 8,
   "metadata": {
    "slideshow": {
     "slide_type": "-"
    }
   },
   "outputs": [
    {
     "data": {
      "text/plain": [
       "1.0"
      ]
     },
     "execution_count": 8,
     "metadata": {},
     "output_type": "execute_result"
    }
   ],
   "source": [
    "ps.show(0)\n",
    "ps.show(1)"
   ]
  },
  {
   "cell_type": "markdown",
   "metadata": {
    "slideshow": {
     "slide_type": "slide"
    }
   },
   "source": [
    "We can mark the location of a point process embedded."
   ]
  },
  {
   "cell_type": "code",
   "execution_count": 9,
   "metadata": {
    "slideshow": {
     "slide_type": "-"
    }
   },
   "outputs": [],
   "source": [
    "ic = h.IClamp(cell.soma(0.5))"
   ]
  },
  {
   "cell_type": "code",
   "execution_count": 14,
   "metadata": {},
   "outputs": [
    {
     "data": {
      "text/plain": [
       "0.0"
      ]
     },
     "execution_count": 14,
     "metadata": {},
     "output_type": "execute_result"
    }
   ],
   "source": [
    "ps.point_mark(ic, 3) # 3 = blue"
   ]
  },
  {
   "cell_type": "code",
   "execution_count": 15,
   "metadata": {},
   "outputs": [
    {
     "data": {
      "text/plain": [
       "dend2_121112(1)"
      ]
     },
     "execution_count": 15,
     "metadata": {},
     "output_type": "execute_result"
    }
   ],
   "source": [
    "ic.loc(cell.dends[30](1))\n",
    "ic.get_segment()"
   ]
  },
  {
   "cell_type": "code",
   "execution_count": 16,
   "metadata": {},
   "outputs": [
    {
     "data": {
      "text/plain": [
       "0.0"
      ]
     },
     "execution_count": 16,
     "metadata": {},
     "output_type": "execute_result"
    }
   ],
   "source": [
    "ps.point_mark_remove()"
   ]
  },
  {
   "cell_type": "markdown",
   "metadata": {
    "slideshow": {
     "slide_type": "slide"
    }
   },
   "source": [
    "Another shape plot type is useful for inspecting the activity in all compartments."
   ]
  },
  {
   "cell_type": "code",
   "execution_count": 17,
   "metadata": {
    "slideshow": {
     "slide_type": "-"
    }
   },
   "outputs": [
    {
     "data": {
      "text/plain": [
       "1.0"
      ]
     },
     "execution_count": 17,
     "metadata": {},
     "output_type": "execute_result"
    }
   ],
   "source": [
    "ps = h.PlotShape(0)\n",
    "ps.view(-191.578, -172.628, 369.697, 431.069, 106, 253, 483.84, 563.2)"
   ]
  },
  {
   "cell_type": "code",
   "execution_count": 18,
   "metadata": {},
   "outputs": [
    {
     "data": {
      "text/plain": [
       "0.0"
      ]
     },
     "execution_count": 18,
     "metadata": {},
     "output_type": "execute_result"
    }
   ],
   "source": [
    "ps.variable(\"v\")\n",
    "ps.exec_menu(\"Shape Plot\")"
   ]
  },
  {
   "cell_type": "code",
   "execution_count": 19,
   "metadata": {},
   "outputs": [
    {
     "data": {
      "text/plain": [
       "1.0"
      ]
     },
     "execution_count": 19,
     "metadata": {},
     "output_type": "execute_result"
    }
   ],
   "source": [
    "ps.scale(-70, 0)"
   ]
  },
  {
   "cell_type": "code",
   "execution_count": 21,
   "metadata": {
    "slideshow": {
     "slide_type": "slide"
    }
   },
   "outputs": [
    {
     "data": {
      "text/plain": [
       "1.0"
      ]
     },
     "execution_count": 21,
     "metadata": {},
     "output_type": "execute_result"
    }
   ],
   "source": [
    "ic.loc(cell.soma(0.5)) #relocate the current clamp to soma.\n",
    "\n",
    "ic.delay = 0\n",
    "ic.amp = 0.1 #100 pA\n",
    "ic.dur = 100  #for 100 ms\n",
    "\n",
    "h.v_init = -75\n",
    "h.tstop = ic.dur # we simulate the model during current injection\n",
    "\n",
    "h.init()\n",
    "h.run()\n",
    "ps.flush()"
   ]
  },
  {
   "cell_type": "code",
   "execution_count": 22,
   "metadata": {
    "slideshow": {
     "slide_type": "slide"
    }
   },
   "outputs": [
    {
     "name": "stdout",
     "output_type": "stream",
     "text": [
      "min voltage: -70.307303917884, max voltage: -67.79725996648476\n"
     ]
    }
   ],
   "source": [
    "vs = []\n",
    "for sec in h.allsec():\n",
    "    for seg in sec.allseg():\n",
    "        vs.append(seg.v)\n",
    "        \n",
    "vsmin = np.min(vs)\n",
    "vsmax = np.max(vs)\n",
    "print(f'min voltage: {vsmin}, max voltage: {vsmax}')"
   ]
  },
  {
   "cell_type": "code",
   "execution_count": 23,
   "metadata": {},
   "outputs": [
    {
     "data": {
      "text/plain": [
       "1.0"
      ]
     },
     "execution_count": 23,
     "metadata": {},
     "output_type": "execute_result"
    }
   ],
   "source": [
    "ps.scale(vsmin, vsmax)"
   ]
  },
  {
   "cell_type": "code",
   "execution_count": 25,
   "metadata": {
    "slideshow": {
     "slide_type": "slide"
    }
   },
   "outputs": [
    {
     "data": {
      "text/plain": [
       "1.0"
      ]
     },
     "execution_count": 25,
     "metadata": {},
     "output_type": "execute_result"
    }
   ],
   "source": [
    "ps.printfile(\"L23_voltage_1.eps\")"
   ]
  },
  {
   "cell_type": "markdown",
   "metadata": {
    "slideshow": {
     "slide_type": "slide"
    }
   },
   "source": [
    "You can plot other variables, too, with a little trick."
   ]
  },
  {
   "cell_type": "code",
   "execution_count": null,
   "metadata": {},
   "outputs": [],
   "source": [
    "vs = []\n",
    "for sec in h.allsec():\n",
    "    for seg in sec.allseg():\n",
    "        seg.v = h.distance(cell.soma(0.5), seg) # set the distance for soma\n",
    "        vs.append(seg.v)\n",
    "        \n",
    "vsmin = np.min(vs)\n",
    "vsmax = np.max(vs)\n",
    "print(f'min distance: {vsmin}, max distance: {vsmax}')\n",
    "\n",
    "ps.scale(vsmin, vsmax)"
   ]
  },
  {
   "cell_type": "markdown",
   "metadata": {
    "slideshow": {
     "slide_type": "slide"
    }
   },
   "source": [
    " ## https://blenderneuron.org/"
   ]
  },
  {
   "cell_type": "markdown",
   "metadata": {
    "slideshow": {
     "slide_type": "slide"
    }
   },
   "source": [
    "# Building a network\n",
    "\n",
    "Network construction in NEURON follows the following steps:\n",
    "\n",
    "1. Prepare neurons (morphology, mechanisms, etc.) and external stimuli if necessary,\n",
    "2. Embed synapse objects in each neuron,\n",
    "3. Connect the neurons to the synapses via [NetCon](https://www.neuron.yale.edu/neuron/static/py_doc/modelspec/programmatic/network/netcon.html) ,\n",
    "4. Set up recordings,\n",
    "5. Run the simulation.\n",
    "\n",
    "<img src=./images/net_construction.png width=50%>"
   ]
  },
  {
   "cell_type": "markdown",
   "metadata": {
    "slideshow": {
     "slide_type": "slide"
    }
   },
   "source": [
    "Here we demonstrate two simple networks with one pyramidal neuron and one or two external stimuli.\n",
    "\n",
    "## 1 Pyramidal cell + 1 synapse\n",
    "\n",
    "Again, we start from importing the NEURON and cell module."
   ]
  },
  {
   "cell_type": "code",
   "execution_count": 1,
   "metadata": {
    "scrolled": true
   },
   "outputs": [
    {
     "name": "stdout",
     "output_type": "stream",
     "text": [
      "\t0 \n",
      "\t1 \n",
      "\t1 \n",
      "\t1 \n",
      "\t1 \n"
     ]
    }
   ],
   "source": [
    "import numpy as np\n",
    "import matplotlib.pyplot as plt\n",
    "from neuron import h, gui\n",
    "import libcell\n",
    "\n",
    "cell = libcell.L23()"
   ]
  },
  {
   "cell_type": "markdown",
   "metadata": {
    "slideshow": {
     "slide_type": "slide"
    }
   },
   "source": [
    "Here we open a session that embeds a synapse object called [Exp2Syn](https://www.neuron.yale.edu/neuron/static/py_doc/modelspec/programmatic/mechanisms/mech.html?highlight=exp2syn#Exp2Syn)."
   ]
  },
  {
   "cell_type": "code",
   "execution_count": 2,
   "metadata": {},
   "outputs": [],
   "source": [
    "syn = [h.Exp2Syn(cell.soma(0.5))]"
   ]
  },
  {
   "cell_type": "code",
   "execution_count": 3,
   "metadata": {},
   "outputs": [
    {
     "name": "stdout",
     "output_type": "stream",
     "text": [
      "Erev = 0.0\n",
      "tau1 = 0.1 ms\n",
      "tau2 = 10.0 ms\n"
     ]
    }
   ],
   "source": [
    "print(f'Erev = {syn[0].e}\\ntau1 = {syn[0].tau1} ms\\ntau2 = {syn[0].tau2} ms')"
   ]
  },
  {
   "cell_type": "markdown",
   "metadata": {
    "slideshow": {
     "slide_type": "slide"
    }
   },
   "source": [
    "Again we define our run function:"
   ]
  },
  {
   "cell_type": "code",
   "execution_count": 4,
   "metadata": {},
   "outputs": [],
   "source": [
    "def run(tstop=250):\n",
    "    \"\"\"runs a simulation and returns the membrane potential recording at the soma.\"\"\"\n",
    "    dt = 0.1 # Again we use 10kHz sampling rate, e.g. 0.1 ms interval\n",
    "    \n",
    "    trec = h.Vector() # Record time\n",
    "    vrec = h.Vector() # Record voltage\n",
    "    \n",
    "    trec.record(h._ref_t, dt)\n",
    "    vrec.record(cell.soma(0.5)._ref_v, dt)\n",
    "    \n",
    "    h.v_init = -75\n",
    "    \n",
    "    h.tstop = tstop  # Set how long the simulation will run.\n",
    "    h.init()\n",
    "    h.run()\n",
    "    \n",
    "    return trec.c(), vrec.c() # Should return a copy of the vector"
   ]
  },
  {
   "cell_type": "markdown",
   "metadata": {
    "slideshow": {
     "slide_type": "slide"
    }
   },
   "source": [
    "However, nothing happens during our simulation since there is no input connected to the synapse."
   ]
  },
  {
   "cell_type": "code",
   "execution_count": 7,
   "metadata": {},
   "outputs": [
    {
     "data": {
      "text/plain": [
       "[<matplotlib.lines.Line2D at 0x7fd09a201570>]"
      ]
     },
     "execution_count": 7,
     "metadata": {},
     "output_type": "execute_result"
    },
    {
     "data": {
      "image/png": "[encoded data removed]",
      "text/plain": [
       "<Figure size 640x480 with 1 Axes>"
      ]
     },
     "metadata": {},
     "output_type": "display_data"
    }
   ],
   "source": [
    "t, vrec = run()\n",
    "\n",
    "fig, ax = plt.subplots()\n",
    "ax.plot(t, vrec)"
   ]
  },
  {
   "cell_type": "markdown",
   "metadata": {
    "slideshow": {
     "slide_type": "slide"
    }
   },
   "source": [
    "Therefore, we prepare an artificial spike generator called [NetStim](https://www.neuron.yale.edu/neuron/static/py_doc/modelspec/programmatic/mechanisms/mech.html?highlight=netstim#NetStim) and connect this to this synapse by a `NetCon` object."
   ]
  },
  {
   "cell_type": "code",
   "execution_count": 6,
   "metadata": {},
   "outputs": [],
   "source": [
    "# Check out the documentation for what the parameters are\n",
    "stim = h.NetStim()\n",
    "stim.start = 50\n",
    "stim.number = 1\n",
    "stim.interval = 5\n",
    "stim.noise = 0\n",
    "\n",
    "# Connect stim to our synapse\n",
    "nc = h.NetCon(stim, syn[0])"
   ]
  },
  {
   "cell_type": "markdown",
   "metadata": {
    "slideshow": {
     "slide_type": "slide"
    }
   },
   "source": [
    "Nothing happens yet since the synaptic conductance is 0. We set this to a non-zero value:"
   ]
  },
  {
   "cell_type": "code",
   "execution_count": 10,
   "metadata": {},
   "outputs": [
    {
     "data": {
      "text/plain": [
       "soma(0.5)"
      ]
     },
     "execution_count": 10,
     "metadata": {},
     "output_type": "execute_result"
    }
   ],
   "source": [
    "nc.weight[0] = 0.01 # 0.01 nS = 10 pS of the synaptic conductance\n",
    "syn[0].get_segment()"
   ]
  },
  {
   "cell_type": "code",
   "execution_count": 26,
   "metadata": {},
   "outputs": [
    {
     "data": {
      "text/plain": [
       "[Text(0.5, 0, 'time (ms)'), Text(0, 0.5, 'voltage (mV)')]"
      ]
     },
     "execution_count": 26,
     "metadata": {},
     "output_type": "execute_result"
    },
    {
     "data": {
      "image/png": "[encoded data removed]",
      "text/plain": [
       "<Figure size 640x480 with 1 Axes>"
      ]
     },
     "metadata": {},
     "output_type": "display_data"
    }
   ],
   "source": [
    "t, vrec = run()\n",
    "\n",
    "fig, ax = plt.subplots()\n",
    "ax.plot(t, vrec)\n",
    "ax.set(xlabel=\"time (ms)\", ylabel=\"voltage (mV)\")"
   ]
  },
  {
   "cell_type": "markdown",
   "metadata": {
    "slideshow": {
     "slide_type": "slide"
    }
   },
   "source": [
    "Now we see EPSPs triggered by spikes from `stim`."
   ]
  },
  {
   "cell_type": "code",
   "execution_count": 13,
   "metadata": {},
   "outputs": [],
   "source": [
    "stim.start = 50\n",
    "stim.number = 5\n",
    "stim.interval = 40 # 1000/40 = 25 Hz\n",
    "stim.noise = 1"
   ]
  },
  {
   "cell_type": "markdown",
   "metadata": {
    "slideshow": {
     "slide_type": "slide"
    }
   },
   "source": [
    "## Multiple synapses\n",
    "\n",
    "Of course, we can add more synapses!"
   ]
  },
  {
   "cell_type": "code",
   "execution_count": 32,
   "metadata": {},
   "outputs": [
    {
     "name": "stdout",
     "output_type": "stream",
     "text": [
      "Erev = 0.0\n",
      "tau1 = 0.1 ms\n",
      "tau2 = 10.0 ms\n",
      "\n",
      "Erev = 0.0\n",
      "tau1 = 0.1 ms\n",
      "tau2 = 10.0 ms\n"
     ]
    }
   ],
   "source": [
    "syn.append(h.Exp2Syn(cell.soma(0.5)))\n",
    "print(f'Erev = {syn[0].e}\\ntau1 = {syn[0].tau1} ms\\ntau2 = {syn[0].tau2} ms\\n')\n",
    "print(f'Erev = {syn[1].e}\\ntau1 = {syn[1].tau1} ms\\ntau2 = {syn[1].tau2} ms')"
   ]
  },
  {
   "cell_type": "markdown",
   "metadata": {
    "slideshow": {
     "slide_type": "slide"
    }
   },
   "source": [
    "Here we put the spike generators and NetCons in lists:"
   ]
  },
  {
   "cell_type": "code",
   "execution_count": 33,
   "metadata": {},
   "outputs": [],
   "source": [
    "stim = []\n",
    "nc = []\n",
    "for i in range(2):\n",
    "    stim.append(h.NetStim())\n",
    "    stim[i].start = 50\n",
    "    stim[i].number = 1\n",
    "    stim[i].noise = 0\n",
    "    \n",
    "    nc.append(h.NetCon(stim[i], syn[i]))\n",
    "    nc[i].weight[0] = 0.01"
   ]
  },
  {
   "cell_type": "code",
   "execution_count": 34,
   "metadata": {
    "slideshow": {
     "slide_type": "slide"
    }
   },
   "outputs": [
    {
     "data": {
      "text/plain": [
       "[Text(0.5, 0, 'time (ms)'), Text(0, 0.5, 'voltage (mV)')]"
      ]
     },
     "execution_count": 34,
     "metadata": {},
     "output_type": "execute_result"
    },
    {
     "data": {
      "image/png": "[encoded data removed]",
      "text/plain": [
       "<Figure size 640x480 with 1 Axes>"
      ]
     },
     "metadata": {},
     "output_type": "display_data"
    }
   ],
   "source": [
    "stim[1].start = 150\n",
    "\n",
    "t, vrec = run()\n",
    "\n",
    "fig, ax = plt.subplots()\n",
    "t = np.arange(vrec.size())*0.1\n",
    "ax.plot(t, vrec)\n",
    "ax.set(xlabel=\"time (ms)\", ylabel=\"voltage (mV)\")"
   ]
  },
  {
   "cell_type": "markdown",
   "metadata": {
    "slideshow": {
     "slide_type": "slide"
    }
   },
   "source": [
    "Here we move the synapses:"
   ]
  },
  {
   "cell_type": "code",
   "execution_count": 45,
   "metadata": {},
   "outputs": [
    {
     "data": {
      "text/plain": [
       "0.8"
      ]
     },
     "execution_count": 45,
     "metadata": {},
     "output_type": "execute_result"
    }
   ],
   "source": [
    "syn[0].loc(cell.dends[10](0.2))\n",
    "syn[1].loc(cell.dends[10](0.8))"
   ]
  },
  {
   "cell_type": "markdown",
   "metadata": {
    "slideshow": {
     "slide_type": "slide"
    }
   },
   "source": [
    "Let's check the locations!"
   ]
  },
  {
   "cell_type": "code",
   "execution_count": 36,
   "metadata": {
    "slideshow": {
     "slide_type": "-"
    }
   },
   "outputs": [
    {
     "name": "stdout",
     "output_type": "stream",
     "text": [
      "nrn_define_shape: soma first and last 3-d point at same (x,y)\n"
     ]
    },
    {
     "data": {
      "text/plain": [
       "1.0"
      ]
     },
     "execution_count": 36,
     "metadata": {},
     "output_type": "execute_result"
    }
   ],
   "source": [
    "ps = h.Shape(0)\n",
    "ps.view(-191.578, -172.628, 369.697, 431.069, 106, 253, 483.84, 563.2)"
   ]
  },
  {
   "cell_type": "code",
   "execution_count": 37,
   "metadata": {},
   "outputs": [
    {
     "data": {
      "text/plain": [
       "0.0"
      ]
     },
     "execution_count": 37,
     "metadata": {},
     "output_type": "execute_result"
    }
   ],
   "source": [
    "ps.point_mark(syn[0], 2) # 2=red\n",
    "ps.point_mark(syn[1], 3) # 3=blue"
   ]
  },
  {
   "cell_type": "code",
   "execution_count": 38,
   "metadata": {
    "slideshow": {
     "slide_type": "slide"
    }
   },
   "outputs": [
    {
     "data": {
      "text/plain": [
       "[Text(0.5, 0, 'time (ms)'), Text(0, 0.5, 'voltage (mV)')]"
      ]
     },
     "execution_count": 38,
     "metadata": {},
     "output_type": "execute_result"
    },
    {
     "data": {
      "image/png": "[encoded data removed]",
      "text/plain": [
       "<Figure size 640x480 with 1 Axes>"
      ]
     },
     "metadata": {},
     "output_type": "display_data"
    }
   ],
   "source": [
    "stim[1].start = stim[0].start+15\n",
    "\n",
    "t, vrec = run()\n",
    "\n",
    "fig, ax = plt.subplots()\n",
    "ax.plot(t, vrec)\n",
    "ax.set(xlabel=\"time (ms)\", ylabel=\"voltage (mV)\")"
   ]
  },
  {
   "cell_type": "markdown",
   "metadata": {
    "slideshow": {
     "slide_type": "slide"
    }
   },
   "source": [
    "Let's try different locations"
   ]
  },
  {
   "cell_type": "code",
   "execution_count": 51,
   "metadata": {},
   "outputs": [],
   "source": [
    "syn[1].loc(cell.dends[10](0.25))\n",
    "syn[0].loc(cell.dends[10](0.8))\n",
    "\n",
    "syn[1].e = -75\n",
    "syn[1].tau1 = 2\n",
    "syn[1].tau2 = 40"
   ]
  },
  {
   "cell_type": "code",
   "execution_count": 59,
   "metadata": {
    "slideshow": {
     "slide_type": "slide"
    }
   },
   "outputs": [
    {
     "data": {
      "text/plain": [
       "<matplotlib.legend.Legend at 0x7fd09dd3cd90>"
      ]
     },
     "execution_count": 59,
     "metadata": {},
     "output_type": "execute_result"
    },
    {
     "data": {
      "image/png": "[encoded data removed]",
      "text/plain": [
       "<Figure size 640x480 with 1 Axes>"
      ]
     },
     "metadata": {},
     "output_type": "display_data"
    }
   ],
   "source": [
    "stim[1].start = 0\n",
    "\n",
    "nc[1].weight[0] = 0.01\n",
    "\n",
    "t, vrec = run()\n",
    "\n",
    "fig, ax = plt.subplots()\n",
    "ax.plot(t, vrec, 'r',  label='with shunting')\n",
    "ax.set(xlabel=\"time (ms)\", ylabel=\"voltage (mV)\")\n",
    "\n",
    "nc[1].weight[0] = 0\n",
    "\n",
    "t, vrec = run()\n",
    "ax.plot(t, vrec, 'k', label='without shunting')\n",
    "ax.set(xlabel=\"time (ms)\", ylabel=\"voltage (mV)\")\n",
    "plt.legend()"
   ]
  }
 ],
 "metadata": {
  "@webio": {
   "lastCommId": null,
   "lastKernelId": null
  },
  "celltoolbar": "Slideshow",
  "kernel_info": {
   "name": "python3"
  },
  "kernelspec": {
   "display_name": "Python 3 (ipykernel)",
   "language": "python",
   "name": "python3"
  },
  "language_info": {
   "codemirror_mode": {
    "name": "ipython",
    "version": 3
   },
   "file_extension": ".py",
   "mimetype": "text/x-python",
   "name": "python",
   "nbconvert_exporter": "python",
   "pygments_lexer": "ipython3",
   "version": "3.10.9"
  },
  "nteract": {
   "version": "0.12.3"
  }
 },
 "nbformat": 4,
 "nbformat_minor": 4
}
