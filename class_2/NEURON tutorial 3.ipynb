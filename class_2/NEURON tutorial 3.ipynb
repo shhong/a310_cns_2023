{
 "cells": [
  {
   "cell_type": "markdown",
   "metadata": {
    "slideshow": {
     "slide_type": "slide"
    },
    "tags": []
   },
   "source": [
    "# NEURON modeling exercise #3"
   ]
  },
  {
   "cell_type": "markdown",
   "metadata": {
    "slideshow": {
     "slide_type": "slide"
    },
    "tags": []
   },
   "source": [
    "## NEURON (with Python)\n",
    "* NEURON documentation: https://www.neuron.yale.edu/neuron/static/py_doc/index.html\n",
    "* NEURON + Python tutorial: https://neuron.yale.edu/neuron/static/docs/neuronpython/index.html"
   ]
  },
  {
   "cell_type": "markdown",
   "metadata": {
    "slideshow": {
     "slide_type": "slide"
    }
   },
   "source": [
    "## More on Sections\n",
    "\n",
    "In case that you want to build an artificial neuron model, instead of using the experimentally measured morphology, you can build a multi-compartmental model by constructing Sections and connecting them."
   ]
  },
  {
   "cell_type": "code",
   "execution_count": null,
   "metadata": {},
   "outputs": [],
   "source": [
    "import numpy as np\n",
    "import matplotlib.pyplot as plt\n",
    "from neuron import h, gui\n",
    "\n",
    "# we build a three-compartment model\n",
    "soma = h.Section(name='soma')\n",
    "dends = [h.Section(name=f'dend{i+1}') for i in range(2)]"
   ]
  },
  {
   "cell_type": "code",
   "execution_count": null,
   "metadata": {
    "slideshow": {
     "slide_type": "slide"
    }
   },
   "outputs": [],
   "source": [
    "print(dends)\n",
    "dends[0].psection()"
   ]
  },
  {
   "cell_type": "markdown",
   "metadata": {
    "slideshow": {
     "slide_type": "slide"
    }
   },
   "source": [
    "Let's adjust their size first."
   ]
  },
  {
   "cell_type": "code",
   "execution_count": null,
   "metadata": {},
   "outputs": [],
   "source": [
    "soma.L = 4\n",
    "soma.diam = 8\n",
    "\n",
    "for d in dends:\n",
    "    d.L = 600\n",
    "    d.diam = 5\n",
    "    d.nseg = 1 # isopotential sections"
   ]
  },
  {
   "cell_type": "markdown",
   "metadata": {
    "slideshow": {
     "slide_type": "-"
    }
   },
   "source": [
    "Then, we connect the soma and dend(rite)s electrically."
   ]
  },
  {
   "cell_type": "code",
   "execution_count": null,
   "metadata": {},
   "outputs": [],
   "source": [
    "for d in dends:\n",
    "    d.connect(soma(1), 0)"
   ]
  },
  {
   "cell_type": "code",
   "execution_count": null,
   "metadata": {},
   "outputs": [],
   "source": [
    "h.topology()"
   ]
  },
  {
   "cell_type": "markdown",
   "metadata": {
    "slideshow": {
     "slide_type": "slide"
    }
   },
   "source": [
    "Let's include a passive mechanism to the soma and dendrites."
   ]
  },
  {
   "cell_type": "code",
   "execution_count": null,
   "metadata": {},
   "outputs": [],
   "source": [
    "for s in h.allsec():\n",
    "    s.insert('pas')\n",
    "    s.g_pas = 0.5e-4\n",
    "\n",
    "h.v_init = soma.e_pas # we set the initial voltage to the reversal potential of the passive membrane\n"
   ]
  },
  {
   "cell_type": "markdown",
   "metadata": {
    "slideshow": {
     "slide_type": "slide"
    }
   },
   "source": [
    "Let's put a current clamp on one of the dendrites."
   ]
  },
  {
   "cell_type": "code",
   "execution_count": null,
   "metadata": {},
   "outputs": [],
   "source": [
    "ic = h.IClamp(dends[0](0.5))\n",
    "ic.amp = 0.2 # 200 pA\n",
    "ic.delay = 10\n",
    "ic.dur = 150"
   ]
  },
  {
   "cell_type": "code",
   "execution_count": null,
   "metadata": {
    "slideshow": {
     "slide_type": "slide"
    }
   },
   "outputs": [],
   "source": [
    "def record_and_run(tstop=250, dt=0.1):\n",
    "    vrec = h.Vector()\n",
    "    trec = h.Vector()\n",
    "    \n",
    "    vrec.record(soma(0.5)._ref_v, dt)\n",
    "    trec.record(h._ref_t, dt)\n",
    "    \n",
    "    h.tstop = tstop\n",
    "    h.init()\n",
    "    h.run()\n",
    "\n",
    "    return vrec.c(), trec.c()\n",
    "    \n",
    "def run_and_plot(tstop=250, ax=None):\n",
    "    v, t = record_and_run(tstop=tstop)\n",
    "    \n",
    "    if ax is None:\n",
    "        _, ax = plt.subplots()\n",
    "    ax.plot(t, v)\n",
    "\n",
    "    "
   ]
  },
  {
   "cell_type": "code",
   "execution_count": null,
   "metadata": {
    "slideshow": {
     "slide_type": "slide"
    }
   },
   "outputs": [],
   "source": [
    "run_and_plot()"
   ]
  },
  {
   "cell_type": "markdown",
   "metadata": {
    "slideshow": {
     "slide_type": "slide"
    }
   },
   "source": [
    "Let's change the coupling of the dendrite and soma. We first measure what is the resistance between the soma and the first dendrite."
   ]
  },
  {
   "cell_type": "code",
   "execution_count": null,
   "metadata": {},
   "outputs": [],
   "source": [
    "# https://www.neuron.yale.edu/neuron/static/py_doc/modelspec/programmatic/topology/geometry.html?highlight=ri#ri\n",
    "# Return the resistance (in megohms) between the center of the segment section(x) and its parent segment.\n",
    "\n",
    "dends[0](0.5).ri()"
   ]
  },
  {
   "cell_type": "markdown",
   "metadata": {
    "slideshow": {
     "slide_type": "slide"
    }
   },
   "source": [
    "We can change the result by changing the axial resistance of the dendrite."
   ]
  },
  {
   "cell_type": "code",
   "execution_count": null,
   "metadata": {},
   "outputs": [],
   "source": [
    "_, ax = plt.subplots()\n",
    "\n",
    "v, t = record_and_run()\n",
    "ax.plot(t, v, label=f'{dends[0].Ra}')\n",
    "\n",
    "dends[0].Ra = dends[1].Ra*10\n",
    "print(f'Now the resistance is {dends[0](0.5).ri():.4f} MΩ.')\n",
    "\n",
    "v, t = record_and_run()\n",
    "ax.plot(t, v, label=f'{dends[0].Ra}')\n",
    "_ = plt.legend()"
   ]
  },
  {
   "cell_type": "markdown",
   "metadata": {
    "slideshow": {
     "slide_type": "slide"
    },
    "tags": []
   },
   "source": [
    "## Active mechanisms and NMODL\n",
    "\n",
    "* NEURON Extension to NMODL: https://www.neuron.yale.edu/neuron/static/py_doc/modelspec/programmatic/mechanisms/nmodl2.html\n",
    "* NMODL: https://www.neuron.yale.edu/neuron/static/py_doc/modelspec/programmatic/mechanisms/nmodl.html#nmodl"
   ]
  },
  {
   "cell_type": "markdown",
   "metadata": {
    "slideshow": {
     "slide_type": "slide"
    },
    "tags": []
   },
   "source": [
    "### How to compile mechanisms:\n",
    "1. `nrnivmodl mod.files` in Terminal (or `cd mod.files; nrnivmodl`), OR\n",
    "2. Use `mknrndll.app` (or equivalent apps in Windows or Linux)."
   ]
  },
  {
   "cell_type": "code",
   "execution_count": null,
   "metadata": {
    "slideshow": {
     "slide_type": "slide"
    }
   },
   "outputs": [],
   "source": [
    "%%bash\n",
    "nrnivmodl mod.files"
   ]
  },
  {
   "cell_type": "markdown",
   "metadata": {
    "slideshow": {
     "slide_type": "slide"
    },
    "tags": []
   },
   "source": [
    "### How to load mechanisms:\n",
    "1. Place `x86_64` directory in the same directory as the simulation, OR\n",
    "2. Use \"File\" -> \"load dll\" in GUI, OR\n",
    "3. Use `neuron.load_mechanisms('directory name')`.\n"
   ]
  },
  {
   "cell_type": "markdown",
   "metadata": {
    "slideshow": {
     "slide_type": "slide"
    },
    "tags": []
   },
   "source": [
    "Now, we reuse the three-compartment cell but move the current clamp to the soma. Then, we insert the \"hh2\" mechanism (in `mod.files/HH2.mod`) and check the cells"
   ]
  },
  {
   "cell_type": "code",
   "execution_count": null,
   "metadata": {},
   "outputs": [],
   "source": [
    "ic.loc(soma(0.5))\n",
    "\n",
    "soma.insert(\"hh2\")\n",
    "\n",
    "# We set the temperature to 35°C so that hh2 can work properly\n",
    "h.celsius = 35\n",
    "\n",
    "h.psection()"
   ]
  },
  {
   "cell_type": "code",
   "execution_count": null,
   "metadata": {
    "slideshow": {
     "slide_type": "slide"
    },
    "tags": []
   },
   "outputs": [],
   "source": [
    "ic.dur = 300\n",
    "ic.amp = 0.2 # 200 pA"
   ]
  },
  {
   "cell_type": "code",
   "execution_count": null,
   "metadata": {
    "slideshow": {
     "slide_type": "slide"
    }
   },
   "outputs": [],
   "source": [
    "def record_and_run(tstop=250, dt=0.1):\n",
    "    vrec1 = h.Vector()\n",
    "    vrec2 = h.Vector()\n",
    "    vrec3 = h.Vector()\n",
    "\n",
    "    trec = h.Vector()\n",
    "    \n",
    "    vrec1.record(soma(0.5)._ref_v, dt)\n",
    "    vrec2.record(dends[0](0.5)._ref_v, dt)\n",
    "    vrec3.record(dends[1](0.5)._ref_v, dt)\n",
    "\n",
    "    trec.record(h._ref_t, dt)\n",
    "    \n",
    "    h.tstop = tstop\n",
    "    h.init()\n",
    "    h.run()\n",
    "\n",
    "    return vrec1.c(), vrec2.c(), vrec3.c(), trec.c()\n",
    "    \n",
    "def run_and_plot(tstop=250, ax=None):\n",
    "    v1, v2, v3, t = record_and_run(tstop=tstop)\n",
    "    \n",
    "    if ax is None:\n",
    "        _, ax = plt.subplots()\n",
    "    ax.plot(t, v1, label='soma')\n",
    "    ax.plot(t, v2, label='dend1')\n",
    "    ax.plot(t, v3, label='dend2')\n",
    "    \n",
    "    _ = plt.legend()"
   ]
  },
  {
   "cell_type": "code",
   "execution_count": null,
   "metadata": {
    "slideshow": {
     "slide_type": "slide"
    }
   },
   "outputs": [],
   "source": [
    "# soma.gnabar_hh2 = 0.003*100\n",
    "# soma.gkbar_hh2 = 0.005*150\n",
    "\n",
    "run_and_plot()"
   ]
  },
  {
   "cell_type": "markdown",
   "metadata": {
    "slideshow": {
     "slide_type": "slide"
    }
   },
   "source": [
    "Here, we add a `NetCon` object that will monitor the membrane potential of the cell and detect events with `v` crossing -20 mV. Since this `NetCon` does not need to deliver events to anything else, we connect it to `None`. Then, we can record the event times to a vector, which lets us to record spike times, detected by a voltage threshold."
   ]
  },
  {
   "cell_type": "code",
   "execution_count": null,
   "metadata": {},
   "outputs": [],
   "source": [
    "nc = h.NetCon(soma(0.5)._ref_v, None, -20, 0, 1)\n",
    "tspike = h.Vector()\n",
    "nc.record(tspike)"
   ]
  },
  {
   "cell_type": "code",
   "execution_count": null,
   "metadata": {
    "slideshow": {
     "slide_type": "slide"
    }
   },
   "outputs": [],
   "source": [
    "run_and_plot()"
   ]
  },
  {
   "cell_type": "markdown",
   "metadata": {
    "slideshow": {
     "slide_type": "slide"
    }
   },
   "source": [
    "Here we print the spike times. Note that we used `.as_numpy` to transform a NEURON `Vector` to a numpy array"
   ]
  },
  {
   "cell_type": "code",
   "execution_count": null,
   "metadata": {},
   "outputs": [],
   "source": [
    "print(tspike.as_numpy())"
   ]
  },
  {
   "cell_type": "markdown",
   "metadata": {
    "slideshow": {
     "slide_type": "slide"
    }
   },
   "source": [
    "## Pyramidal cell example\n",
    "\n",
    "Now let's simulate the fully active pyramidal cell model. **Please make sure that you restart the kernel at this point.**"
   ]
  },
  {
   "cell_type": "code",
   "execution_count": null,
   "metadata": {},
   "outputs": [],
   "source": [
    "import neuron\n",
    "from neuron import h, gui\n",
    "import libcell\n",
    "\n",
    "import numpy as np\n",
    "import matplotlib.pyplot as plt"
   ]
  },
  {
   "cell_type": "markdown",
   "metadata": {
    "slideshow": {
     "slide_type": "slide"
    }
   },
   "source": [
    "First we defined a passive cell,"
   ]
  },
  {
   "cell_type": "code",
   "execution_count": null,
   "metadata": {},
   "outputs": [],
   "source": [
    "cell = libcell.L23()"
   ]
  },
  {
   "cell_type": "code",
   "execution_count": null,
   "metadata": {},
   "outputs": [],
   "source": [
    "neuron.load_mechanisms(\"mod.files\")"
   ]
  },
  {
   "cell_type": "markdown",
   "metadata": {
    "slideshow": {
     "slide_type": "slide"
    }
   },
   "source": [
    "And then, we call a function in `libcell.py` to embed active mechanisms everywhere,`"
   ]
  },
  {
   "cell_type": "code",
   "execution_count": null,
   "metadata": {},
   "outputs": [],
   "source": [
    "libcell.init_active(cell, axon=True, soma=True, dend=True, dendNa=True, dendCa=True)\n",
    "h.psection()"
   ]
  },
  {
   "cell_type": "markdown",
   "metadata": {
    "slideshow": {
     "slide_type": "slide"
    }
   },
   "source": [
    "To test the excitability of the cell, we add a current clamp electrode at soma,"
   ]
  },
  {
   "cell_type": "code",
   "execution_count": null,
   "metadata": {},
   "outputs": [],
   "source": [
    "ic = h.IClamp(cell.soma(0.5))"
   ]
  },
  {
   "cell_type": "markdown",
   "metadata": {
    "slideshow": {
     "slide_type": "slide"
    }
   },
   "source": [
    "Let's define a function to do a virtual current clamp experiment,"
   ]
  },
  {
   "cell_type": "code",
   "execution_count": null,
   "metadata": {},
   "outputs": [],
   "source": [
    "def do_current_clamp(current_injected):\n",
    "    \n",
    "    # should not forget setting the temperature...\n",
    "    h.celsius = 35\n",
    "    \n",
    "    # Simulation length = 300 ms\n",
    "    h.tstop = 300\n",
    "\n",
    "    # Current injection for 200 ms\n",
    "    ic.delay = 50\n",
    "    ic.dur = 200\n",
    "    ic.amp = current_injected\n",
    "\n",
    "\n",
    "    dt_rec = 0.1\n",
    "    t = h.Vector()\n",
    "    v = h.Vector()\n",
    "    v.record(cell.soma(1)._ref_v, dt_rec)\n",
    "    t.record(h._ref_t, dt_rec)\n",
    "\n",
    "    # We set the initial voltage to -75 mV and run the simulation\n",
    "    h.v_init = -75\n",
    "    h.init()\n",
    "    h.run()\n",
    "    \n",
    "    # Here we plot the result\n",
    "    _, ax = plt.subplots()\n",
    "\n",
    "    ax.plot(t, v)\n",
    "    ax.set(xlabel=\"time (ms)\", ylabel = \"v (mv)\")"
   ]
  },
  {
   "cell_type": "code",
   "execution_count": null,
   "metadata": {
    "slideshow": {
     "slide_type": "slide"
    }
   },
   "outputs": [],
   "source": [
    "do_current_clamp(0.1) # 100 pA injection; the cell is still in a subthreshold regime"
   ]
  },
  {
   "cell_type": "code",
   "execution_count": null,
   "metadata": {
    "slideshow": {
     "slide_type": "slide"
    }
   },
   "outputs": [],
   "source": [
    "do_current_clamp(0.35) # 350 pA injection will give you spikes"
   ]
  }
 ],
 "metadata": {
  "@webio": {
   "lastCommId": null,
   "lastKernelId": null
  },
  "celltoolbar": "Slideshow",
  "kernel_info": {
   "name": "python3"
  },
  "kernelspec": {
   "display_name": "Python 3 (ipykernel)",
   "language": "python",
   "name": "python3"
  },
  "language_info": {
   "codemirror_mode": {
    "name": "ipython",
    "version": 3
   },
   "file_extension": ".py",
   "mimetype": "text/x-python",
   "name": "python",
   "nbconvert_exporter": "python",
   "pygments_lexer": "ipython3",
   "version": "3.10.9"
  },
  "nteract": {
   "version": "0.12.3"
  }
 },
 "nbformat": 4,
 "nbformat_minor": 4
}
