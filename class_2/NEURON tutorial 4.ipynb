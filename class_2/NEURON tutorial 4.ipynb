{
 "cells": [
  {
   "cell_type": "markdown",
   "metadata": {
    "slideshow": {
     "slide_type": "slide"
    },
    "tags": []
   },
   "source": [
    "# Building networks"
   ]
  },
  {
   "cell_type": "markdown",
   "metadata": {
    "slideshow": {
     "slide_type": "slide"
    },
    "tags": []
   },
   "source": [
    "**Don't forget compiling mod files.**"
   ]
  },
  {
   "cell_type": "markdown",
   "metadata": {
    "slideshow": {
     "slide_type": "slide"
    },
    "tags": []
   },
   "source": [
    "# 1. Cell objects\n",
    "\n",
    "**Make sure that you reset the kernel at this point.** \n",
    "\n",
    "In Python, you can define custom data types that you can use to organize data and related operations. For example, so far we have worked with cell models in NEURON, which have common attributes and operations as:\n",
    "\n",
    "1. Sections and segments,\n",
    "2. Combining sections to define the morphology of a cell,\n",
    "3. Active mechanisms and inserting them,\n",
    "4. Synapses and connecting them to other cells, etc.\n",
    "\n",
    "\n",
    "We can collect these into a cell object as follows:"
   ]
  },
  {
   "cell_type": "code",
   "execution_count": null,
   "metadata": {
    "slideshow": {
     "slide_type": "subslide"
    },
    "tags": []
   },
   "outputs": [],
   "source": [
    "from neuron import h, gui\n",
    "from neuron import load_mechanisms\n",
    "\n",
    "import numpy as np\n",
    "import matplotlib.pyplot as plt\n",
    "\n",
    "\n",
    "class Cell:\n",
    "    \"\"\" Cell class\"\"\"\n",
    "    \n",
    "    # When a cell object is created this function is called first.\n",
    "    # Note \"self\" in definition\n",
    "    def __init__(self):\n",
    "        \n",
    "        self.synlist = []      # list of synapses in this cell\n",
    "\n",
    "        # here are some operations to create a cell\n",
    "        self.create_sections()\n",
    "        self.build_topology()\n",
    "        self.build_subsets()\n",
    "        self.define_geometry()\n",
    "        self.define_biophysics()\n",
    "        self.create_synapses()\n",
    "\n",
    "    # At this stage, we leave most of them unimplemented\n",
    "    # This technique is called \"the Template Method pattern\" (https://sourcemaking.com/design_patterns/template_method)\n",
    "    def create_sections(self):\n",
    "        raise NotImplementedError(\"create_section() is not implemented.\")\n",
    "\n",
    "    def build_topology(self):\n",
    "        raise NotImplementedError(\"build_topology() is not implemented.\")\n",
    "    \n",
    "    def build_subsets(self):\n",
    "        raise NotImplementedError(\"build_subsets() is not implemented.\")\n",
    "\n",
    "    def define_geometry(self):\n",
    "        raise NotImplementedError(\"define_geometry() is not implemented.\")\n",
    "\n",
    "    def define_biophysics(self):\n",
    "        raise NotImplementedError(\"define_biophysics() is not implemented.\")\n",
    "\n",
    "    def create_synapses(self):\n",
    "        raise NotImplementedError(\"create_synapses() is not implemented.\")\n",
    "    \n",
    "    # Here are something that will be commonly used by every cell\n",
    "    # built based on this template\n",
    "    \n",
    "    def connect2target(self, target, thresh=0):\n",
    "        \"\"\"Make a new NetCon with this cell's membrane\n",
    "        potential at the soma as the source (i.e. the spike detector)\n",
    "        onto the target passed in (i.e. a synapse on a cell).\n",
    "        Subclasses may override with other spike detectors.\"\"\"\n",
    "        nc = h.NetCon(self.soma(1)._ref_v, target, sec = self.soma)\n",
    "        nc.threshold = thresh\n",
    "        return nc"
   ]
  },
  {
   "cell_type": "code",
   "execution_count": null,
   "metadata": {
    "slideshow": {
     "slide_type": "subslide"
    },
    "tags": []
   },
   "outputs": [],
   "source": [
    "cell1 = WB()"
   ]
  },
  {
   "cell_type": "code",
   "execution_count": null,
   "metadata": {
    "slideshow": {
     "slide_type": "subslide"
    },
    "tags": []
   },
   "outputs": [],
   "source": [
    "class WB(Cell):\n",
    "    \n",
    "    def create_sections(self):\n",
    "        \"\"\"create a soma\"\"\"\n",
    "        self.soma = h.Section(name=\"soma\", cell=self)\n",
    "\n",
    "    def build_topology(self):\n",
    "        pass # single compartment\n",
    "    \n",
    "    def build_subsets(self):\n",
    "        pass # single compartment\n",
    "    \n",
    "    def define_geometry(self):\n",
    "        self.soma.L = 15\n",
    "        self.soma.diam = 15\n",
    "\n",
    "    def define_biophysics(self):\n",
    "        h.v_init = -65\n",
    "        self.soma.insert('conste')\n",
    "\n",
    "    def create_synapses(self):\n",
    "        self.synlist.append(h.Exp2Syn(self.soma(0.5))) # Excitatory\n",
    "        self.synlist[-1].e = 0\n",
    "        self.synlist[-1].tau1 = 0.1\n",
    "        self.synlist[-1].tau2 = 2.0\n",
    "        \n",
    "        self.synlist.append(h.Exp2Syn(self.soma(0.5))) # Inhibitory     \n",
    "        self.synlist[-1].e = -75\n",
    "        \n",
    "        # Here we use the same temporal parameters as excitatory synapses\n",
    "        self.synlist[-1].tau1 = 0.1\n",
    "        self.synlist[-1].tau2 = 2.0"
   ]
  },
  {
   "cell_type": "code",
   "execution_count": null,
   "metadata": {
    "slideshow": {
     "slide_type": "subslide"
    },
    "tags": []
   },
   "outputs": [],
   "source": [
    "cell1 = WB() # this should work"
   ]
  },
  {
   "cell_type": "code",
   "execution_count": null,
   "metadata": {},
   "outputs": [],
   "source": [
    "cell1.soma.psection()"
   ]
  },
  {
   "cell_type": "code",
   "execution_count": null,
   "metadata": {},
   "outputs": [],
   "source": [
    "cell1.synlist[0].e"
   ]
  },
  {
   "cell_type": "markdown",
   "metadata": {
    "slideshow": {
     "slide_type": "slide"
    },
    "tags": []
   },
   "source": [
    "# 2. Network simulation\n",
    "\n",
    "**Make sure that you reset the kernel at this point.** \n",
    "\n",
    "Here we will show how organize the network simulation code by using classes and objects. We prepared the `Cell` class in `cell_template.py` and define the `ConnorStevens` once again using the class."
   ]
  },
  {
   "cell_type": "code",
   "execution_count": null,
   "metadata": {
    "slideshow": {
     "slide_type": "subslide"
    },
    "tags": []
   },
   "outputs": [],
   "source": [
    "from neuron import h, gui\n",
    "from neuron import load_mechanisms\n",
    "\n",
    "import numpy as np\n",
    "import matplotlib.pyplot as plt\n",
    "\n",
    "from cell_template import Cell\n",
    "\n",
    "class WB(Cell):\n",
    "    \n",
    "    def create_sections(self):\n",
    "        \"\"\"create a soma\"\"\"\n",
    "        self.soma = h.Section(name=\"soma\", cell=self)\n",
    "\n",
    "    def build_topology(self):\n",
    "        pass # single compartment\n",
    "    \n",
    "    def build_subsets(self):\n",
    "        pass # single compartment\n",
    "    \n",
    "    def define_geometry(self):\n",
    "        self.soma.L = 15\n",
    "        self.soma.diam = 15\n",
    "\n",
    "    def define_biophysics(self):\n",
    "        h.v_init = -65\n",
    "        self.soma.insert('wb')\n",
    "\n",
    "    def create_synapses(self):\n",
    "        self.synlist.append(h.Exp2Syn(self.soma(0.5))) # Excitatory\n",
    "        self.synlist[-1].e = 0\n",
    "        self.synlist[-1].tau1 = 0.1\n",
    "        self.synlist[-1].tau2 = 2.0\n",
    "        \n",
    "        self.synlist.append(h.Exp2Syn(self.soma(0.5))) # Inhibitory     \n",
    "        self.synlist[-1].e = -75\n",
    "        \n",
    "        # Here we use the same temporal parameters as excitatory synapses\n",
    "        self.synlist[-1].tau1 = 0.1\n",
    "        self.synlist[-1].tau2 = 2.0"
   ]
  },
  {
   "cell_type": "markdown",
   "metadata": {},
   "source": [
    "Now, we will build a network model based on this cell type. The network contains 1000 cells and 20% of the neurons are inhibitory while the rest is excitatory. Each cell randomly pulls inputs from 10% of the excitatory and inhibitory cell population."
   ]
  },
  {
   "cell_type": "code",
   "execution_count": null,
   "metadata": {
    "slideshow": {
     "slide_type": "subslide"
    },
    "tags": []
   },
   "outputs": [],
   "source": [
    "Ncells = 1000                    # Number of cells\n",
    "Nexc = int((Ncells/5)*4)         # Excitatory cells = 80%\n",
    "Ninh = int(Ncells/5)             # Inhibitory cells = 20%\n",
    "nexcpre = int(Nexc*0.1)          # Presynaptic excitatory cells for each neuron = 10% of excitatory cells\n",
    "ninhpre = int(Ninh*0.1)  # Presynaptic inhibitory cells for each neuron = 10% of inhibitory cells\n",
    "\n",
    "print('Ncells =', Ncells, '\\nNexc =', Nexc, '\\nNinh =', Ninh, '\\nnexcpre =',nexcpre, '\\nninhpre =', ninhpre)"
   ]
  },
  {
   "cell_type": "markdown",
   "metadata": {},
   "source": [
    "We use `SerialNetManager` from `net_manager` module, which will make building, running, and saving the data easier."
   ]
  },
  {
   "cell_type": "code",
   "execution_count": null,
   "metadata": {
    "slideshow": {
     "slide_type": "subslide"
    },
    "tags": []
   },
   "outputs": [],
   "source": [
    "from net_manager import SerialNetManager\n",
    "\n",
    "pnm = SerialNetManager(Ncells)"
   ]
  },
  {
   "cell_type": "code",
   "execution_count": null,
   "metadata": {
    "slideshow": {
     "slide_type": "subslide"
    },
    "tags": []
   },
   "outputs": [],
   "source": [
    "for i in range(Ncells):\n",
    "    pnm.register_cell(i, WB())"
   ]
  },
  {
   "cell_type": "markdown",
   "metadata": {},
   "source": [
    "Then, we connect an external stimulus to each neuron, which will *kickstart* the network activity."
   ]
  },
  {
   "cell_type": "code",
   "execution_count": null,
   "metadata": {
    "slideshow": {
     "slide_type": "subslide"
    },
    "tags": []
   },
   "outputs": [],
   "source": [
    "ics = []\n",
    "for i in range(Ncells):\n",
    "    ic = h.NetStimFD(pnm.gid2cell[i].soma(0.5))\n",
    "    ic.interval = 3\n",
    "    ic.noise = 1\n",
    "    ic.start = 0\n",
    "    ic.duration = 7\n",
    "    ic.seed(i+1223)\n",
    "    \n",
    "    nc = h.NetCon(ic, pnm.gid2cell[i].synlist[0])\n",
    "    nc.weight[0] = 5e-3\n",
    "    ics.append((ic, nc))\n"
   ]
  },
  {
   "cell_type": "markdown",
   "metadata": {},
   "source": [
    "Then we let the network manager know that we will record spikes from all the cells."
   ]
  },
  {
   "cell_type": "code",
   "execution_count": null,
   "metadata": {
    "slideshow": {
     "slide_type": "subslide"
    },
    "tags": []
   },
   "outputs": [],
   "source": [
    "pnm.want_all_spikes()"
   ]
  },
  {
   "cell_type": "markdown",
   "metadata": {},
   "source": [
    "We haven't wired the cells yet, but the neurons will fire with external stimuli. Let's try a short simulation!"
   ]
  },
  {
   "cell_type": "code",
   "execution_count": null,
   "metadata": {
    "slideshow": {
     "slide_type": "subslide"
    },
    "tags": []
   },
   "outputs": [],
   "source": [
    "h.tstop = 50\n",
    "h.init()\n",
    "pnm.run()"
   ]
  },
  {
   "cell_type": "code",
   "execution_count": null,
   "metadata": {
    "slideshow": {
     "slide_type": "subslide"
    },
    "tags": []
   },
   "outputs": [],
   "source": [
    "fig, ax = plt.subplots()\n",
    "ax.plot(pnm.spikevec, pnm.idvec, '.k')\n",
    "ax.set(xlabel='Time (ms)', ylabel='Neuron', xlim=[0, 50])"
   ]
  },
  {
   "cell_type": "markdown",
   "metadata": {
    "slideshow": {
     "slide_type": "slide"
    },
    "tags": []
   },
   "source": [
    "Now we wire the cells:"
   ]
  },
  {
   "cell_type": "code",
   "execution_count": null,
   "metadata": {},
   "outputs": [],
   "source": [
    "gexc = 3e-3     # g_exc = 3 nS\n",
    "ginh = 5.*gexc   # g_inh/g_exc = 5\n",
    "\n",
    "# Reset all NetCon's\n",
    "pnm.nc_reset()\n",
    "\n",
    "# Go around every cell\n",
    "for i in range(Ncells):\n",
    "    \n",
    "    # Choose nexcpre cells from Nexc excitatory cells\n",
    "    exc_pre = np.random.randint(0, Nexc, nexcpre)\n",
    "    # Choose ninhpre cells from Ninh inhibitory cells\n",
    "    inh_pre = np.random.randint(Nexc, Ncells, ninhpre)\n",
    "\n",
    "    for k in exc_pre:\n",
    "        if i!=k:  # No self-connection\n",
    "            # pnm.nc_append(id_of_presyn_cell, id_of_postsyn_cell, synapse_id, syn_weight, propagation_delay, threshold)\n",
    "            pnm.nc_append(k, i, 0, gexc, 0.1, thresh=-10)\n",
    "\n",
    "    for k in inh_pre:\n",
    "        if i!=k:  # No self-connection\n",
    "            pnm.nc_append(k, i, 1, ginh, 0.1, thresh=-10)"
   ]
  },
  {
   "cell_type": "code",
   "execution_count": null,
   "metadata": {
    "slideshow": {
     "slide_type": "subslide"
    },
    "tags": []
   },
   "outputs": [],
   "source": [
    "#This part is for changing the synaptic conductance!\n",
    "\n",
    "gexc_o = gexc\n",
    "ginh_o = ginh\n",
    "\n",
    "\n",
    "for k in pnm.netcons:\n",
    "    if pnm.netcons[k].weight[0]==gexc_o:\n",
    "        pnm.netcons[k].weight[0] = gexc\n",
    "    if pnm.netcons[k].weight[0]==ginh_o:\n",
    "        pnm.netcons[k].weight[0] = ginh\n",
    "        \n",
    "# for k in pnm.netcons:\n",
    "#     print(pnm.netcons[k].e)"
   ]
  },
  {
   "cell_type": "markdown",
   "metadata": {
    "slideshow": {
     "slide_type": "slide"
    },
    "tags": []
   },
   "source": [
    "Let's run it!"
   ]
  },
  {
   "cell_type": "code",
   "execution_count": null,
   "metadata": {},
   "outputs": [],
   "source": [
    "h.tstop = 250\n",
    "h.init()\n",
    "pnm.run()"
   ]
  },
  {
   "cell_type": "code",
   "execution_count": null,
   "metadata": {
    "slideshow": {
     "slide_type": "slide"
    },
    "tags": []
   },
   "outputs": [],
   "source": [
    "fig, ax = plt.subplots(figsize=(30, 10))\n",
    "ax.plot(pnm.spikevec, pnm.idvec, '.k')\n",
    "ax.set(xlim=[0, h.tstop])\n",
    "ax.set(xlabel='Time (ms)', ylabel='Neuron')"
   ]
  },
  {
   "cell_type": "markdown",
   "metadata": {
    "slideshow": {
     "slide_type": "slide"
    },
    "tags": []
   },
   "source": [
    "## Analyzing data"
   ]
  },
  {
   "cell_type": "markdown",
   "metadata": {},
   "source": [
    "In most cases, we convert spike time data into spike train histograms with time bins."
   ]
  },
  {
   "cell_type": "code",
   "execution_count": null,
   "metadata": {},
   "outputs": [],
   "source": [
    "tstop = 250\n",
    "tc = np.arange(tstop+1)\n",
    "spikecount_all, _ = np.histogram(x[:,0], tc)\n",
    "t = tc[:-1]\n",
    "\n",
    "_, ax = plt.subplots(figsize=(20, 5))\n",
    "ax.step(t, spikecount_all, 'k')\n",
    "ax.set(xlim=[0, tstop], xlabel='time (ms)', ylabel='spikes')"
   ]
  },
  {
   "cell_type": "markdown",
   "metadata": {
    "slideshow": {
     "slide_type": "subslide"
    },
    "tags": []
   },
   "source": [
    "Making spike trains for individual neurons is also straightforward."
   ]
  },
  {
   "cell_type": "code",
   "execution_count": null,
   "metadata": {},
   "outputs": [],
   "source": [
    "spiketrain = np.zeros((spikecount_all.size, Ncells))\n",
    "\n",
    "for i in range(Ncells):\n",
    "    iselect = (x[:, 1] == i)\n",
    "    spiketrain[:, i], _ = np.histogram(x[iselect, 0], tc)\n",
    "    \n",
    "_, ax = plt.subplots(nrows=2, figsize=(20, 10), sharex=True)\n",
    "\n",
    "ax[0].step(t, spiketrain[:,10])\n",
    "ax[0].set(xlim=[0, tstop])\n",
    "\n",
    "ax[1].pcolormesh(t, np.arange(100), spiketrain[:,:100].T, cmap='hot_r')\n",
    "ax[1].set(xlim=[0, tstop],\n",
    "       xlabel='time (ms)',\n",
    "       ylabel='neuron')"
   ]
  },
  {
   "cell_type": "markdown",
   "metadata": {
    "slideshow": {
     "slide_type": "subslide"
    },
    "tags": []
   },
   "source": [
    "Noticing transient oscillations in our data, we can try analysis in a frequency domain."
   ]
  },
  {
   "cell_type": "code",
   "execution_count": null,
   "metadata": {},
   "outputs": [],
   "source": [
    "import scipy.signal\n",
    "\n",
    "freqs, tz, spectrogram = scipy.signal.spectrogram(\n",
    "    spikecount_all*1000,\n",
    "    fs=1000,\n",
    "    window=('tukey',0.25),\n",
    "    nperseg=30,\n",
    "    noverlap=29,\n",
    "    nfft=300\n",
    ")\n",
    "\n",
    "_, ax = plt.subplots(figsize=(20, 5))\n",
    "ax.pcolormesh(tz*1000, freqs, spectrogram,\n",
    "               cmap='hot_r')\n",
    "ax.set(title='Spectrogram',\n",
    "    ylabel='frequency (Hz)',\n",
    "    xlabel='time (ms)',\n",
    "    ylim=[0, 250],\n",
    "    xlim=[0, tstop])"
   ]
  }
 ],
 "metadata": {
  "@webio": {
   "lastCommId": null,
   "lastKernelId": null
  },
  "celltoolbar": "Slideshow",
  "kernelspec": {
   "display_name": "Python 3 (ipykernel)",
   "language": "python",
   "name": "python3"
  },
  "language_info": {
   "codemirror_mode": {
    "name": "ipython",
    "version": 3
   },
   "file_extension": ".py",
   "mimetype": "text/x-python",
   "name": "python",
   "nbconvert_exporter": "python",
   "pygments_lexer": "ipython3",
   "version": "3.10.9"
  },
  "nteract": {
   "version": "0.22.4"
  }
 },
 "nbformat": 4,
 "nbformat_minor": 4
}
